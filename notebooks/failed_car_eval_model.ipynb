{
 "cells": [
  {
   "cell_type": "markdown",
   "metadata": {},
   "source": [
    "<iframe src=\"https://archive.ics.uci.edu/dataset/19/car+evaluation\" width=\"90%\" height=\"500px\"></iframe>"
   ]
  },
  {
   "cell_type": "code",
   "execution_count": 165,
   "metadata": {},
   "outputs": [],
   "source": [
    "import optuna\n",
    "import numpy as np\n",
    "import pandas as pd\n",
    "from sklearn.model_selection import train_test_split\n",
    "from sklearn.metrics import accuracy_score\n",
    "from sklearn.preprocessing import StandardScaler"
   ]
  },
  {
   "cell_type": "code",
   "execution_count": 147,
   "metadata": {},
   "outputs": [
    {
     "data": {
      "text/html": [
       "<div>\n",
       "<style scoped>\n",
       "    .dataframe tbody tr th:only-of-type {\n",
       "        vertical-align: middle;\n",
       "    }\n",
       "\n",
       "    .dataframe tbody tr th {\n",
       "        vertical-align: top;\n",
       "    }\n",
       "\n",
       "    .dataframe thead th {\n",
       "        text-align: right;\n",
       "    }\n",
       "</style>\n",
       "<table border=\"1\" class=\"dataframe\">\n",
       "  <thead>\n",
       "    <tr style=\"text-align: right;\">\n",
       "      <th></th>\n",
       "      <th>buying</th>\n",
       "      <th>maint</th>\n",
       "      <th>doors</th>\n",
       "      <th>persons</th>\n",
       "      <th>lug_boot</th>\n",
       "      <th>safety</th>\n",
       "      <th>class</th>\n",
       "    </tr>\n",
       "  </thead>\n",
       "  <tbody>\n",
       "    <tr>\n",
       "      <th>0</th>\n",
       "      <td>vhigh</td>\n",
       "      <td>vhigh</td>\n",
       "      <td>2</td>\n",
       "      <td>2</td>\n",
       "      <td>small</td>\n",
       "      <td>low</td>\n",
       "      <td>unacc</td>\n",
       "    </tr>\n",
       "    <tr>\n",
       "      <th>1</th>\n",
       "      <td>vhigh</td>\n",
       "      <td>vhigh</td>\n",
       "      <td>2</td>\n",
       "      <td>2</td>\n",
       "      <td>small</td>\n",
       "      <td>med</td>\n",
       "      <td>unacc</td>\n",
       "    </tr>\n",
       "    <tr>\n",
       "      <th>2</th>\n",
       "      <td>vhigh</td>\n",
       "      <td>vhigh</td>\n",
       "      <td>2</td>\n",
       "      <td>2</td>\n",
       "      <td>small</td>\n",
       "      <td>high</td>\n",
       "      <td>unacc</td>\n",
       "    </tr>\n",
       "    <tr>\n",
       "      <th>3</th>\n",
       "      <td>vhigh</td>\n",
       "      <td>vhigh</td>\n",
       "      <td>2</td>\n",
       "      <td>2</td>\n",
       "      <td>med</td>\n",
       "      <td>low</td>\n",
       "      <td>unacc</td>\n",
       "    </tr>\n",
       "    <tr>\n",
       "      <th>4</th>\n",
       "      <td>vhigh</td>\n",
       "      <td>vhigh</td>\n",
       "      <td>2</td>\n",
       "      <td>2</td>\n",
       "      <td>med</td>\n",
       "      <td>med</td>\n",
       "      <td>unacc</td>\n",
       "    </tr>\n",
       "    <tr>\n",
       "      <th>5</th>\n",
       "      <td>vhigh</td>\n",
       "      <td>vhigh</td>\n",
       "      <td>2</td>\n",
       "      <td>2</td>\n",
       "      <td>med</td>\n",
       "      <td>high</td>\n",
       "      <td>unacc</td>\n",
       "    </tr>\n",
       "    <tr>\n",
       "      <th>6</th>\n",
       "      <td>vhigh</td>\n",
       "      <td>vhigh</td>\n",
       "      <td>2</td>\n",
       "      <td>2</td>\n",
       "      <td>big</td>\n",
       "      <td>low</td>\n",
       "      <td>unacc</td>\n",
       "    </tr>\n",
       "    <tr>\n",
       "      <th>7</th>\n",
       "      <td>vhigh</td>\n",
       "      <td>vhigh</td>\n",
       "      <td>2</td>\n",
       "      <td>2</td>\n",
       "      <td>big</td>\n",
       "      <td>med</td>\n",
       "      <td>unacc</td>\n",
       "    </tr>\n",
       "    <tr>\n",
       "      <th>8</th>\n",
       "      <td>vhigh</td>\n",
       "      <td>vhigh</td>\n",
       "      <td>2</td>\n",
       "      <td>2</td>\n",
       "      <td>big</td>\n",
       "      <td>high</td>\n",
       "      <td>unacc</td>\n",
       "    </tr>\n",
       "    <tr>\n",
       "      <th>9</th>\n",
       "      <td>vhigh</td>\n",
       "      <td>vhigh</td>\n",
       "      <td>2</td>\n",
       "      <td>4</td>\n",
       "      <td>small</td>\n",
       "      <td>low</td>\n",
       "      <td>unacc</td>\n",
       "    </tr>\n",
       "  </tbody>\n",
       "</table>\n",
       "</div>"
      ],
      "text/plain": [
       "  buying  maint doors persons lug_boot safety  class\n",
       "0  vhigh  vhigh     2       2    small    low  unacc\n",
       "1  vhigh  vhigh     2       2    small    med  unacc\n",
       "2  vhigh  vhigh     2       2    small   high  unacc\n",
       "3  vhigh  vhigh     2       2      med    low  unacc\n",
       "4  vhigh  vhigh     2       2      med    med  unacc\n",
       "5  vhigh  vhigh     2       2      med   high  unacc\n",
       "6  vhigh  vhigh     2       2      big    low  unacc\n",
       "7  vhigh  vhigh     2       2      big    med  unacc\n",
       "8  vhigh  vhigh     2       2      big   high  unacc\n",
       "9  vhigh  vhigh     2       4    small    low  unacc"
      ]
     },
     "execution_count": 147,
     "metadata": {},
     "output_type": "execute_result"
    }
   ],
   "source": [
    "# define column names\n",
    "column_names: list[str] = ['buying', 'maint', 'doors', 'persons', 'lug_boot', 'safety', 'class']\n",
    "\n",
    "# Load the data from car.data file\n",
    "df_car_data = pd.read_csv('../MLflow-project/datasets/car_evaluation/car.data',\n",
    "                          header = None,\n",
    "                          names = column_names)\n",
    "\n",
    "df_car_data.head(10)              # df_car_data.head() only gets 1st 5 rows"
   ]
  },
  {
   "cell_type": "code",
   "execution_count": 148,
   "metadata": {},
   "outputs": [
    {
     "data": {
      "text/plain": [
       "Index(['buying', 'maint', 'doors', 'persons', 'lug_boot', 'safety', 'class'], dtype='object')"
      ]
     },
     "execution_count": 148,
     "metadata": {},
     "output_type": "execute_result"
    }
   ],
   "source": [
    "df_car_data.columns"
   ]
  },
  {
   "cell_type": "code",
   "execution_count": 149,
   "metadata": {},
   "outputs": [
    {
     "name": "stdout",
     "output_type": "stream",
     "text": [
      "<class 'pandas.core.frame.DataFrame'>\n",
      "RangeIndex: 1728 entries, 0 to 1727\n",
      "Data columns (total 7 columns):\n",
      " #   Column    Non-Null Count  Dtype \n",
      "---  ------    --------------  ----- \n",
      " 0   buying    1728 non-null   object\n",
      " 1   maint     1728 non-null   object\n",
      " 2   doors     1728 non-null   object\n",
      " 3   persons   1728 non-null   object\n",
      " 4   lug_boot  1728 non-null   object\n",
      " 5   safety    1728 non-null   object\n",
      " 6   class     1728 non-null   object\n",
      "dtypes: object(7)\n",
      "memory usage: 94.6+ KB\n"
     ]
    }
   ],
   "source": [
    "df_car_data.info()              # gives information about column \"datatypes\" and if any null columns"
   ]
  },
  {
   "cell_type": "code",
   "execution_count": 150,
   "metadata": {},
   "outputs": [
    {
     "data": {
      "text/plain": [
       "(1728, 7)"
      ]
     },
     "execution_count": 150,
     "metadata": {},
     "output_type": "execute_result"
    }
   ],
   "source": [
    "df_car_data.shape           # (1728, 7) --> 1728 rows and 7 columns"
   ]
  },
  {
   "cell_type": "code",
   "execution_count": 151,
   "metadata": {},
   "outputs": [
    {
     "data": {
      "text/plain": [
       "buying      0\n",
       "maint       0\n",
       "doors       0\n",
       "persons     0\n",
       "lug_boot    0\n",
       "safety      0\n",
       "class       0\n",
       "dtype: int64"
      ]
     },
     "execution_count": 151,
     "metadata": {},
     "output_type": "execute_result"
    }
   ],
   "source": [
    "df_car_data.isnull().sum()              # checks if any of the columns has a value >= \"1\" which denotes null values"
   ]
  },
  {
   "cell_type": "code",
   "execution_count": 152,
   "metadata": {},
   "outputs": [
    {
     "data": {
      "text/plain": [
       "buying      False\n",
       "maint       False\n",
       "doors       False\n",
       "persons     False\n",
       "lug_boot    False\n",
       "safety      False\n",
       "class       False\n",
       "dtype: bool"
      ]
     },
     "execution_count": 152,
     "metadata": {},
     "output_type": "execute_result"
    }
   ],
   "source": [
    "df_car_data.isnull().any()              # determines if any columns has null values"
   ]
  },
  {
   "cell_type": "code",
   "execution_count": 160,
   "metadata": {},
   "outputs": [
    {
     "data": {
      "text/html": [
       "<div>\n",
       "<style scoped>\n",
       "    .dataframe tbody tr th:only-of-type {\n",
       "        vertical-align: middle;\n",
       "    }\n",
       "\n",
       "    .dataframe tbody tr th {\n",
       "        vertical-align: top;\n",
       "    }\n",
       "\n",
       "    .dataframe thead th {\n",
       "        text-align: right;\n",
       "    }\n",
       "</style>\n",
       "<table border=\"1\" class=\"dataframe\">\n",
       "  <thead>\n",
       "    <tr style=\"text-align: right;\">\n",
       "      <th></th>\n",
       "      <th>buying</th>\n",
       "      <th>maint</th>\n",
       "      <th>doors</th>\n",
       "      <th>persons</th>\n",
       "      <th>lug_boot</th>\n",
       "      <th>safety</th>\n",
       "      <th>class</th>\n",
       "    </tr>\n",
       "  </thead>\n",
       "  <tbody>\n",
       "    <tr>\n",
       "      <th>81</th>\n",
       "      <td>vhigh</td>\n",
       "      <td>vhigh</td>\n",
       "      <td>5more</td>\n",
       "      <td>2</td>\n",
       "      <td>small</td>\n",
       "      <td>low</td>\n",
       "      <td>unacc</td>\n",
       "    </tr>\n",
       "    <tr>\n",
       "      <th>82</th>\n",
       "      <td>vhigh</td>\n",
       "      <td>vhigh</td>\n",
       "      <td>5more</td>\n",
       "      <td>2</td>\n",
       "      <td>small</td>\n",
       "      <td>med</td>\n",
       "      <td>unacc</td>\n",
       "    </tr>\n",
       "    <tr>\n",
       "      <th>83</th>\n",
       "      <td>vhigh</td>\n",
       "      <td>vhigh</td>\n",
       "      <td>5more</td>\n",
       "      <td>2</td>\n",
       "      <td>small</td>\n",
       "      <td>high</td>\n",
       "      <td>unacc</td>\n",
       "    </tr>\n",
       "    <tr>\n",
       "      <th>84</th>\n",
       "      <td>vhigh</td>\n",
       "      <td>vhigh</td>\n",
       "      <td>5more</td>\n",
       "      <td>2</td>\n",
       "      <td>med</td>\n",
       "      <td>low</td>\n",
       "      <td>unacc</td>\n",
       "    </tr>\n",
       "    <tr>\n",
       "      <th>85</th>\n",
       "      <td>vhigh</td>\n",
       "      <td>vhigh</td>\n",
       "      <td>5more</td>\n",
       "      <td>2</td>\n",
       "      <td>med</td>\n",
       "      <td>med</td>\n",
       "      <td>unacc</td>\n",
       "    </tr>\n",
       "    <tr>\n",
       "      <th>...</th>\n",
       "      <td>...</td>\n",
       "      <td>...</td>\n",
       "      <td>...</td>\n",
       "      <td>...</td>\n",
       "      <td>...</td>\n",
       "      <td>...</td>\n",
       "      <td>...</td>\n",
       "    </tr>\n",
       "    <tr>\n",
       "      <th>1723</th>\n",
       "      <td>low</td>\n",
       "      <td>low</td>\n",
       "      <td>5more</td>\n",
       "      <td>more</td>\n",
       "      <td>med</td>\n",
       "      <td>med</td>\n",
       "      <td>good</td>\n",
       "    </tr>\n",
       "    <tr>\n",
       "      <th>1724</th>\n",
       "      <td>low</td>\n",
       "      <td>low</td>\n",
       "      <td>5more</td>\n",
       "      <td>more</td>\n",
       "      <td>med</td>\n",
       "      <td>high</td>\n",
       "      <td>vgood</td>\n",
       "    </tr>\n",
       "    <tr>\n",
       "      <th>1725</th>\n",
       "      <td>low</td>\n",
       "      <td>low</td>\n",
       "      <td>5more</td>\n",
       "      <td>more</td>\n",
       "      <td>big</td>\n",
       "      <td>low</td>\n",
       "      <td>unacc</td>\n",
       "    </tr>\n",
       "    <tr>\n",
       "      <th>1726</th>\n",
       "      <td>low</td>\n",
       "      <td>low</td>\n",
       "      <td>5more</td>\n",
       "      <td>more</td>\n",
       "      <td>big</td>\n",
       "      <td>med</td>\n",
       "      <td>good</td>\n",
       "    </tr>\n",
       "    <tr>\n",
       "      <th>1727</th>\n",
       "      <td>low</td>\n",
       "      <td>low</td>\n",
       "      <td>5more</td>\n",
       "      <td>more</td>\n",
       "      <td>big</td>\n",
       "      <td>high</td>\n",
       "      <td>vgood</td>\n",
       "    </tr>\n",
       "  </tbody>\n",
       "</table>\n",
       "<p>432 rows × 7 columns</p>\n",
       "</div>"
      ],
      "text/plain": [
       "     buying  maint  doors persons lug_boot safety  class\n",
       "81    vhigh  vhigh  5more       2    small    low  unacc\n",
       "82    vhigh  vhigh  5more       2    small    med  unacc\n",
       "83    vhigh  vhigh  5more       2    small   high  unacc\n",
       "84    vhigh  vhigh  5more       2      med    low  unacc\n",
       "85    vhigh  vhigh  5more       2      med    med  unacc\n",
       "...     ...    ...    ...     ...      ...    ...    ...\n",
       "1723    low    low  5more    more      med    med   good\n",
       "1724    low    low  5more    more      med   high  vgood\n",
       "1725    low    low  5more    more      big    low  unacc\n",
       "1726    low    low  5more    more      big    med   good\n",
       "1727    low    low  5more    more      big   high  vgood\n",
       "\n",
       "[432 rows x 7 columns]"
      ]
     },
     "execution_count": 160,
     "metadata": {},
     "output_type": "execute_result"
    }
   ],
   "source": [
    "# class of \"acceptable_car\"\n",
    "acceptable_car = df_car_data[df_car_data['doors'] == 'acc']\n",
    "acceptable_car"
   ]
  },
  {
   "cell_type": "code",
   "execution_count": 164,
   "metadata": {},
   "outputs": [
    {
     "data": {
      "text/plain": [
       "persons\n",
       "2       576\n",
       "4       576\n",
       "more    576\n",
       "Name: count, dtype: int64"
      ]
     },
     "execution_count": 164,
     "metadata": {},
     "output_type": "execute_result"
    }
   ],
   "source": [
    "df_car_data['persons'].value_counts()"
   ]
  },
  {
   "cell_type": "code",
   "execution_count": 154,
   "metadata": {},
   "outputs": [
    {
     "name": "stdout",
     "output_type": "stream",
     "text": [
      "Features or input variables:\n",
      "   buying  maint doors persons lug_boot safety\n",
      "0  vhigh  vhigh     2       2    small    low\n",
      "1  vhigh  vhigh     2       2    small    med\n",
      "2  vhigh  vhigh     2       2    small   high\n",
      "3  vhigh  vhigh     2       2      med    low\n",
      "4  vhigh  vhigh     2       2      med    med \n",
      "and shape is  (1728, 6)\n",
      "\n",
      "Target or ouput variables:\n",
      " 0    unacc\n",
      "1    unacc\n",
      "2    unacc\n",
      "3    unacc\n",
      "4    unacc\n",
      "Name: class, dtype: object \n",
      "and shape is  (1728,)\n"
     ]
    }
   ],
   "source": [
    "# divide data into train (input / features) & test (output) data\n",
    "from pandas.core.frame import DataFrame, Series\n",
    "\n",
    "X: DataFrame = df_car_data.drop('class', axis = 1)\n",
    "y: Series = df_car_data['class']\n",
    "\n",
    "X_train, X_test, y_train, y_test = train_test_split(X, y,\n",
    "                                                    test_size = 0.3,\n",
    "                                                    random_state = 42)\n",
    "\n",
    "print('Features or input variables:\\n', X.head(), '\\nand shape is ', X.shape)\n",
    "print('\\nTarget or ouput variables:\\n', y.head(), '\\nand shape is ', y.shape)"
   ]
  },
  {
   "cell_type": "markdown",
   "metadata": {},
   "source": [
    "- It's generally better to perform \"one-hot encoding\" and \"label encoding\" after splitting the data into training and test sets. \n",
    "\n",
    "- This approach ensures that the encoding is based only on the training data, which helps prevent data leakage and ensures that the model generalizes well to unseen data.\n",
    "\n",
    "**Why Encode After Splitting?**\n",
    "\n",
    "#### Prevent Data Leakage: Encoding before splitting can lead to data leakage, where information from the test set influences the training process. This can result in overly optimistic performance estimates.\n",
    "\n",
    "- **Data leakage** occurs when information from outside the training dataset is used to create the model.\n",
    "\n",
    "- Consistent Encoding: By encoding after splitting, you ensure that the encoding is consistent and based only on the training data. This helps the model generalize better to new, unseen data.\n",
    "\n",
    "#### Correct Approach:\n",
    "\n",
    "- Split the Data: First, split the data into training and test sets.\n",
    "\n",
    "- Encode the Training Data: Perform one-hot encoding and label encoding on the training data.\n",
    "\n",
    "- Align the Test Data: Ensure that the test data has the same encoding as the training data."
   ]
  },
  {
   "cell_type": "code",
   "execution_count": 155,
   "metadata": {},
   "outputs": [
    {
     "name": "stdout",
     "output_type": "stream",
     "text": [
      "(1209, 6)\n",
      "(1209,)\n",
      "(519, 6)\n",
      "(519,)\n"
     ]
    }
   ],
   "source": [
    "print(X_train.shape)\n",
    "print(y_train.shape)\n",
    "\n",
    "print(X_test.shape)\n",
    "print(y_test.shape)"
   ]
  },
  {
   "cell_type": "markdown",
   "metadata": {},
   "source": [
    "#### Applying **$One-Hot-Encoding$**:\n",
    "\n",
    "1. Convert categorical variables into dummy / indicator variables\n",
    "\n",
    "2. One-hot encoding (using pd.get_dummies) converts each category into a separate binary column, ensuring that the model treats each category independently without implying any order\n",
    "\n",
    "3. Most machine learning algorithms cannot handle categorical variables directly. They require numerical input\n",
    "\n",
    "4. Hence,converting categorical variables to dummy variables (one-hot encoding) transforms them into a format that algorithms can process."
   ]
  },
  {
   "cell_type": "code",
   "execution_count": 156,
   "metadata": {},
   "outputs": [
    {
     "name": "stdout",
     "output_type": "stream",
     "text": [
      "Scaled X_train:\n",
      "[[-0.5732115  -0.57066443  1.71035805 -0.58085229 -0.57957881 -0.56811716\n",
      "   1.71409181 -0.57830536 -0.59231578 -0.57193799 -0.56811716  1.73300642\n",
      "  -0.69398678  1.37562513 -0.70053705  1.408966   -0.69529532 -0.7163389\n",
      "   1.39598728 -0.71237722 -0.69267897]\n",
      " [ 1.74455675 -0.57066443 -0.5846729  -0.58085229  1.72539088 -0.56811716\n",
      "  -0.58339932 -0.57830536 -0.59231578  1.7484413  -0.56811716 -0.57703191\n",
      "  -0.69398678 -0.72694223  1.42747625 -0.70974034 -0.69529532  1.39598728\n",
      "  -0.7163389   1.40375068 -0.69267897]\n",
      " [-0.5732115   1.75234331 -0.5846729  -0.58085229 -0.57957881 -0.56811716\n",
      "   1.71409181 -0.57830536 -0.59231578  1.7484413  -0.56811716 -0.57703191\n",
      "  -0.69398678  1.37562513 -0.70053705 -0.70974034  1.43823778 -0.7163389\n",
      "  -0.7163389  -0.71237722  1.44367021]\n",
      " [-0.5732115  -0.57066443  1.71035805 -0.58085229 -0.57957881 -0.56811716\n",
      "   1.71409181 -0.57830536 -0.59231578 -0.57193799 -0.56811716  1.73300642\n",
      "   1.44094964 -0.72694223 -0.70053705  1.408966   -0.69529532 -0.7163389\n",
      "   1.39598728 -0.71237722 -0.69267897]\n",
      " [-0.5732115  -0.57066443  1.71035805 -0.58085229  1.72539088 -0.56811716\n",
      "  -0.58339932 -0.57830536 -0.59231578 -0.57193799  1.7602003  -0.57703191\n",
      "   1.44094964 -0.72694223 -0.70053705  1.408966   -0.69529532 -0.7163389\n",
      "  -0.7163389  -0.71237722  1.44367021]]\n",
      "\n",
      "Scaled y_test:\n",
      "[[ 1.74455675 -0.57066443 -0.5846729  -0.58085229  1.72539088 -0.56811716\n",
      "  -0.58339932 -0.57830536 -0.59231578 -0.57193799  1.7602003  -0.57703191\n",
      "   1.44094964 -0.72694223 -0.70053705 -0.70974034  1.43823778 -0.7163389\n",
      "   1.39598728 -0.71237722 -0.69267897]\n",
      " [-0.5732115  -0.57066443  1.71035805 -0.58085229 -0.57957881  1.7602003\n",
      "  -0.58339932 -0.57830536  1.68828862 -0.57193799 -0.56811716 -0.57703191\n",
      "  -0.69398678  1.37562513 -0.70053705 -0.70974034  1.43823778 -0.7163389\n",
      "  -0.7163389  -0.71237722  1.44367021]\n",
      " [ 1.74455675 -0.57066443 -0.5846729  -0.58085229  1.72539088 -0.56811716\n",
      "  -0.58339932 -0.57830536 -0.59231578 -0.57193799 -0.56811716  1.73300642\n",
      "   1.44094964 -0.72694223 -0.70053705  1.408966   -0.69529532 -0.7163389\n",
      "  -0.7163389  -0.71237722  1.44367021]\n",
      " [-0.5732115   1.75234331 -0.5846729  -0.58085229  1.72539088 -0.56811716\n",
      "  -0.58339932 -0.57830536 -0.59231578 -0.57193799 -0.56811716  1.73300642\n",
      "  -0.69398678  1.37562513 -0.70053705 -0.70974034  1.43823778 -0.7163389\n",
      "  -0.7163389  -0.71237722  1.44367021]\n",
      " [-0.5732115  -0.57066443  1.71035805 -0.58085229 -0.57957881  1.7602003\n",
      "  -0.58339932 -0.57830536 -0.59231578 -0.57193799  1.7602003  -0.57703191\n",
      "  -0.69398678 -0.72694223  1.42747625 -0.70974034  1.43823778 -0.7163389\n",
      "  -0.7163389   1.40375068 -0.69267897]]\n"
     ]
    }
   ],
   "source": [
    "# # Encode the input variables (features) - learnt on 12-Jan-2025, pandas encoding using \"pd.get_dummies\" is waste and temporary for just 1 line\n",
    "# X_train_encoded = pd.get_dummies(X_train)\n",
    "# X_test_encoded = pd.get_dummies(X_test)\n",
    "\n",
    "# # Align the columns of the test set with the train set\n",
    "# X_test_encoded = X_test_encoded.reindex(columns = X_train_encoded.columns, \n",
    "#                                         fill_value = 0)\n",
    "\n",
    "# # Optional: Scale the data for better model performance\n",
    "# scaler = StandardScaler()\n",
    "# X_train_scaled = scaler.fit_transform(X_train_encoded)\n",
    "# X_test_scaled = scaler.transform(X_test_encoded)\n",
    "\n",
    "# print('Scaled X_train:')\n",
    "# print(X_train_scaled[:5])       # prints a large vectorised array like [[-0.57122289 -0.58124945 -0.58793451  1.7574861  -0.59016327 -0.56453724\n",
    "\n",
    "# print('\\nScaled y_test:')\n",
    "# print(X_test_scaled[:5])"
   ]
  },
  {
   "cell_type": "code",
   "execution_count": 157,
   "metadata": {},
   "outputs": [
    {
     "name": "stdout",
     "output_type": "stream",
     "text": [
      "Encoded y_train:\n",
      "[3 2 0 2 2]\n",
      "\n",
      "Encoded y_test:\n",
      "[2 0 2 0 2]\n"
     ]
    }
   ],
   "source": [
    "# Encode the target variables\n",
    "from sklearn.preprocessing import LabelEncoder\n",
    "lablel_encoder = LabelEncoder()\n",
    "\n",
    "y_train_encoded = lablel_encoder.fit_transform(y_train)\n",
    "y_test_encoded = lablel_encoder.transform(y_test)\n",
    "\n",
    "print('Encoded y_train:')\n",
    "print(y_train_encoded[:5])              # prints [2 2 2 2 2] --> means class values like \"aac\", \"good\" now got converted to nums\n",
    "\n",
    "print('\\nEncoded y_test:')\n",
    "print(y_test_encoded[:5])"
   ]
  },
  {
   "cell_type": "code",
   "execution_count": 159,
   "metadata": {},
   "outputs": [
    {
     "data": {
      "text/html": [
       "<div>\n",
       "<style scoped>\n",
       "    .dataframe tbody tr th:only-of-type {\n",
       "        vertical-align: middle;\n",
       "    }\n",
       "\n",
       "    .dataframe tbody tr th {\n",
       "        vertical-align: top;\n",
       "    }\n",
       "\n",
       "    .dataframe thead th {\n",
       "        text-align: right;\n",
       "    }\n",
       "</style>\n",
       "<table border=\"1\" class=\"dataframe\">\n",
       "  <thead>\n",
       "    <tr style=\"text-align: right;\">\n",
       "      <th></th>\n",
       "      <th>buying</th>\n",
       "      <th>maint</th>\n",
       "      <th>doors</th>\n",
       "      <th>persons</th>\n",
       "      <th>lug_boot</th>\n",
       "      <th>safety</th>\n",
       "      <th>class</th>\n",
       "    </tr>\n",
       "  </thead>\n",
       "  <tbody>\n",
       "    <tr>\n",
       "      <th>0</th>\n",
       "      <td>vhigh</td>\n",
       "      <td>vhigh</td>\n",
       "      <td>2</td>\n",
       "      <td>2</td>\n",
       "      <td>small</td>\n",
       "      <td>low</td>\n",
       "      <td>unacc</td>\n",
       "    </tr>\n",
       "    <tr>\n",
       "      <th>1</th>\n",
       "      <td>vhigh</td>\n",
       "      <td>vhigh</td>\n",
       "      <td>2</td>\n",
       "      <td>2</td>\n",
       "      <td>small</td>\n",
       "      <td>med</td>\n",
       "      <td>unacc</td>\n",
       "    </tr>\n",
       "    <tr>\n",
       "      <th>2</th>\n",
       "      <td>vhigh</td>\n",
       "      <td>vhigh</td>\n",
       "      <td>2</td>\n",
       "      <td>2</td>\n",
       "      <td>small</td>\n",
       "      <td>high</td>\n",
       "      <td>unacc</td>\n",
       "    </tr>\n",
       "    <tr>\n",
       "      <th>3</th>\n",
       "      <td>vhigh</td>\n",
       "      <td>vhigh</td>\n",
       "      <td>2</td>\n",
       "      <td>2</td>\n",
       "      <td>med</td>\n",
       "      <td>low</td>\n",
       "      <td>unacc</td>\n",
       "    </tr>\n",
       "    <tr>\n",
       "      <th>4</th>\n",
       "      <td>vhigh</td>\n",
       "      <td>vhigh</td>\n",
       "      <td>2</td>\n",
       "      <td>2</td>\n",
       "      <td>med</td>\n",
       "      <td>med</td>\n",
       "      <td>unacc</td>\n",
       "    </tr>\n",
       "  </tbody>\n",
       "</table>\n",
       "</div>"
      ],
      "text/plain": [
       "  buying  maint doors persons lug_boot safety  class\n",
       "0  vhigh  vhigh     2       2    small    low  unacc\n",
       "1  vhigh  vhigh     2       2    small    med  unacc\n",
       "2  vhigh  vhigh     2       2    small   high  unacc\n",
       "3  vhigh  vhigh     2       2      med    low  unacc\n",
       "4  vhigh  vhigh     2       2      med    med  unacc"
      ]
     },
     "execution_count": 159,
     "metadata": {},
     "output_type": "execute_result"
    }
   ],
   "source": [
    "df_car_data.head()"
   ]
  }
 ],
 "metadata": {
  "kernelspec": {
   "display_name": ".venv",
   "language": "python",
   "name": "python3"
  },
  "language_info": {
   "codemirror_mode": {
    "name": "ipython",
    "version": 3
   },
   "file_extension": ".py",
   "mimetype": "text/x-python",
   "name": "python",
   "nbconvert_exporter": "python",
   "pygments_lexer": "ipython3",
   "version": "3.12.7"
  }
 },
 "nbformat": 4,
 "nbformat_minor": 2
}
