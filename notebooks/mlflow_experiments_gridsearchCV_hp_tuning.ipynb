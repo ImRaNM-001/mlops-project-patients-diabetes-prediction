{
 "cells": [
  {
   "cell_type": "markdown",
   "metadata": {},
   "source": [
    "#### Solve a **Multivariate Classification** problem using **RandomForestclassifier** algorithm\n",
    "\n",
    "- Hyperparameter tuned applying \n",
    "\n",
    "    - **GridSearchCV**\n"
   ]
  },
  {
   "cell_type": "markdown",
   "metadata": {},
   "source": [
    "> ### Dataset used: &emsp;[Pima Indians Diabetes Database](https://www.kaggle.com/datasets/uciml/pima-indians-diabetes-database)"
   ]
  },
  {
   "cell_type": "code",
   "execution_count": 1,
   "metadata": {},
   "outputs": [],
   "source": [
    "import numpy as np\n",
    "import pandas as pd"
   ]
  },
  {
   "cell_type": "code",
   "execution_count": 2,
   "metadata": {},
   "outputs": [
    {
     "data": {
      "text/html": [
       "<div>\n",
       "<style scoped>\n",
       "    .dataframe tbody tr th:only-of-type {\n",
       "        vertical-align: middle;\n",
       "    }\n",
       "\n",
       "    .dataframe tbody tr th {\n",
       "        vertical-align: top;\n",
       "    }\n",
       "\n",
       "    .dataframe thead th {\n",
       "        text-align: right;\n",
       "    }\n",
       "</style>\n",
       "<table border=\"1\" class=\"dataframe\">\n",
       "  <thead>\n",
       "    <tr style=\"text-align: right;\">\n",
       "      <th></th>\n",
       "      <th>Pregnancies</th>\n",
       "      <th>Glucose</th>\n",
       "      <th>BloodPressure</th>\n",
       "      <th>SkinThickness</th>\n",
       "      <th>Insulin</th>\n",
       "      <th>BMI</th>\n",
       "      <th>DiabetesPedigreeFunction</th>\n",
       "      <th>Age</th>\n",
       "      <th>Outcome</th>\n",
       "    </tr>\n",
       "  </thead>\n",
       "  <tbody>\n",
       "    <tr>\n",
       "      <th>0</th>\n",
       "      <td>6</td>\n",
       "      <td>148</td>\n",
       "      <td>72</td>\n",
       "      <td>35</td>\n",
       "      <td>0</td>\n",
       "      <td>33.6</td>\n",
       "      <td>0.627</td>\n",
       "      <td>50</td>\n",
       "      <td>1</td>\n",
       "    </tr>\n",
       "    <tr>\n",
       "      <th>1</th>\n",
       "      <td>1</td>\n",
       "      <td>85</td>\n",
       "      <td>66</td>\n",
       "      <td>29</td>\n",
       "      <td>0</td>\n",
       "      <td>26.6</td>\n",
       "      <td>0.351</td>\n",
       "      <td>31</td>\n",
       "      <td>0</td>\n",
       "    </tr>\n",
       "    <tr>\n",
       "      <th>2</th>\n",
       "      <td>8</td>\n",
       "      <td>183</td>\n",
       "      <td>64</td>\n",
       "      <td>0</td>\n",
       "      <td>0</td>\n",
       "      <td>23.3</td>\n",
       "      <td>0.672</td>\n",
       "      <td>32</td>\n",
       "      <td>1</td>\n",
       "    </tr>\n",
       "    <tr>\n",
       "      <th>3</th>\n",
       "      <td>1</td>\n",
       "      <td>89</td>\n",
       "      <td>66</td>\n",
       "      <td>23</td>\n",
       "      <td>94</td>\n",
       "      <td>28.1</td>\n",
       "      <td>0.167</td>\n",
       "      <td>21</td>\n",
       "      <td>0</td>\n",
       "    </tr>\n",
       "    <tr>\n",
       "      <th>4</th>\n",
       "      <td>0</td>\n",
       "      <td>137</td>\n",
       "      <td>40</td>\n",
       "      <td>35</td>\n",
       "      <td>168</td>\n",
       "      <td>43.1</td>\n",
       "      <td>2.288</td>\n",
       "      <td>33</td>\n",
       "      <td>1</td>\n",
       "    </tr>\n",
       "    <tr>\n",
       "      <th>5</th>\n",
       "      <td>5</td>\n",
       "      <td>116</td>\n",
       "      <td>74</td>\n",
       "      <td>0</td>\n",
       "      <td>0</td>\n",
       "      <td>25.6</td>\n",
       "      <td>0.201</td>\n",
       "      <td>30</td>\n",
       "      <td>0</td>\n",
       "    </tr>\n",
       "    <tr>\n",
       "      <th>6</th>\n",
       "      <td>3</td>\n",
       "      <td>78</td>\n",
       "      <td>50</td>\n",
       "      <td>32</td>\n",
       "      <td>88</td>\n",
       "      <td>31.0</td>\n",
       "      <td>0.248</td>\n",
       "      <td>26</td>\n",
       "      <td>1</td>\n",
       "    </tr>\n",
       "    <tr>\n",
       "      <th>7</th>\n",
       "      <td>10</td>\n",
       "      <td>115</td>\n",
       "      <td>0</td>\n",
       "      <td>0</td>\n",
       "      <td>0</td>\n",
       "      <td>35.3</td>\n",
       "      <td>0.134</td>\n",
       "      <td>29</td>\n",
       "      <td>0</td>\n",
       "    </tr>\n",
       "    <tr>\n",
       "      <th>8</th>\n",
       "      <td>2</td>\n",
       "      <td>197</td>\n",
       "      <td>70</td>\n",
       "      <td>45</td>\n",
       "      <td>543</td>\n",
       "      <td>30.5</td>\n",
       "      <td>0.158</td>\n",
       "      <td>53</td>\n",
       "      <td>1</td>\n",
       "    </tr>\n",
       "    <tr>\n",
       "      <th>9</th>\n",
       "      <td>8</td>\n",
       "      <td>125</td>\n",
       "      <td>96</td>\n",
       "      <td>0</td>\n",
       "      <td>0</td>\n",
       "      <td>0.0</td>\n",
       "      <td>0.232</td>\n",
       "      <td>54</td>\n",
       "      <td>1</td>\n",
       "    </tr>\n",
       "  </tbody>\n",
       "</table>\n",
       "</div>"
      ],
      "text/plain": [
       "   Pregnancies  Glucose  BloodPressure  SkinThickness  Insulin   BMI  \\\n",
       "0            6      148             72             35        0  33.6   \n",
       "1            1       85             66             29        0  26.6   \n",
       "2            8      183             64              0        0  23.3   \n",
       "3            1       89             66             23       94  28.1   \n",
       "4            0      137             40             35      168  43.1   \n",
       "5            5      116             74              0        0  25.6   \n",
       "6            3       78             50             32       88  31.0   \n",
       "7           10      115              0              0        0  35.3   \n",
       "8            2      197             70             45      543  30.5   \n",
       "9            8      125             96              0        0   0.0   \n",
       "\n",
       "   DiabetesPedigreeFunction  Age  Outcome  \n",
       "0                     0.627   50        1  \n",
       "1                     0.351   31        0  \n",
       "2                     0.672   32        1  \n",
       "3                     0.167   21        0  \n",
       "4                     2.288   33        1  \n",
       "5                     0.201   30        0  \n",
       "6                     0.248   26        1  \n",
       "7                     0.134   29        0  \n",
       "8                     0.158   53        1  \n",
       "9                     0.232   54        1  "
      ]
     },
     "execution_count": 2,
     "metadata": {},
     "output_type": "execute_result"
    }
   ],
   "source": [
    "# define column names\n",
    "column_names: list[str] = ['Pregnancies', 'Glucose', 'BloodPressure', 'SkinThickness', 'Insulin', 'BMI', 'DiabetesPedigreeFunction', 'Age', 'Outcome']\n",
    "\n",
    "# Load the data from the .csv file\n",
    "df_patient_data = pd.read_csv('../data/processed/pima-indians-diabetes.csv',\n",
    "                          header = None,\n",
    "                          names = column_names)\n",
    "\n",
    "df_patient_data.head(10)              # df_patient_data.head() only gets 1st 5 rows"
   ]
  },
  {
   "cell_type": "code",
   "execution_count": 117,
   "metadata": {},
   "outputs": [
    {
     "data": {
      "text/plain": [
       "Age\n",
       "22    72\n",
       "21    63\n",
       "25    48\n",
       "24    46\n",
       "23    38\n",
       "28    35\n",
       "26    33\n",
       "27    32\n",
       "29    29\n",
       "31    24\n",
       "41    22\n",
       "30    21\n",
       "37    19\n",
       "42    18\n",
       "33    17\n",
       "38    16\n",
       "36    16\n",
       "32    16\n",
       "45    15\n",
       "34    14\n",
       "46    13\n",
       "43    13\n",
       "40    13\n",
       "39    12\n",
       "35    10\n",
       "50     8\n",
       "51     8\n",
       "52     8\n",
       "44     8\n",
       "58     7\n",
       "47     6\n",
       "54     6\n",
       "49     5\n",
       "48     5\n",
       "57     5\n",
       "53     5\n",
       "60     5\n",
       "66     4\n",
       "63     4\n",
       "62     4\n",
       "55     4\n",
       "67     3\n",
       "56     3\n",
       "59     3\n",
       "65     3\n",
       "69     2\n",
       "61     2\n",
       "72     1\n",
       "81     1\n",
       "64     1\n",
       "70     1\n",
       "68     1\n",
       "Name: count, dtype: int64"
      ]
     },
     "execution_count": 117,
     "metadata": {},
     "output_type": "execute_result"
    }
   ],
   "source": [
    "df_patient_data['Age'].value_counts()           # find individual counts of \"Age\" for different age groups, this is like a basic EDA"
   ]
  },
  {
   "cell_type": "code",
   "execution_count": 118,
   "metadata": {},
   "outputs": [
    {
     "data": {
      "text/plain": [
       "Index(['Pregnancies', 'Glucose', 'BloodPressure', 'SkinThickness', 'Insulin',\n",
       "       'BMI', 'DiabetesPedigreeFunction', 'Age', 'Outcome'],\n",
       "      dtype='object')"
      ]
     },
     "execution_count": 118,
     "metadata": {},
     "output_type": "execute_result"
    }
   ],
   "source": [
    "df_patient_data.columns"
   ]
  },
  {
   "cell_type": "code",
   "execution_count": 3,
   "metadata": {},
   "outputs": [
    {
     "name": "stdout",
     "output_type": "stream",
     "text": [
      "<class 'pandas.core.frame.DataFrame'>\n",
      "RangeIndex: 768 entries, 0 to 767\n",
      "Data columns (total 9 columns):\n",
      " #   Column                    Non-Null Count  Dtype  \n",
      "---  ------                    --------------  -----  \n",
      " 0   Pregnancies               768 non-null    int64  \n",
      " 1   Glucose                   768 non-null    int64  \n",
      " 2   BloodPressure             768 non-null    int64  \n",
      " 3   SkinThickness             768 non-null    int64  \n",
      " 4   Insulin                   768 non-null    int64  \n",
      " 5   BMI                       768 non-null    float64\n",
      " 6   DiabetesPedigreeFunction  768 non-null    float64\n",
      " 7   Age                       768 non-null    int64  \n",
      " 8   Outcome                   768 non-null    int64  \n",
      "dtypes: float64(2), int64(7)\n",
      "memory usage: 54.1 KB\n"
     ]
    }
   ],
   "source": [
    "df_patient_data.info()              # gives information about column \"datatypes\" and if any null columns"
   ]
  },
  {
   "cell_type": "code",
   "execution_count": 120,
   "metadata": {},
   "outputs": [
    {
     "data": {
      "text/plain": [
       "(768, 9)"
      ]
     },
     "execution_count": 120,
     "metadata": {},
     "output_type": "execute_result"
    }
   ],
   "source": [
    "df_patient_data.shape           # (768, 9) --> 768 rows and 9 columns"
   ]
  },
  {
   "cell_type": "code",
   "execution_count": 4,
   "metadata": {},
   "outputs": [
    {
     "data": {
      "text/plain": [
       "Pregnancies                 0\n",
       "Glucose                     0\n",
       "BloodPressure               0\n",
       "SkinThickness               0\n",
       "Insulin                     0\n",
       "BMI                         0\n",
       "DiabetesPedigreeFunction    0\n",
       "Age                         0\n",
       "Outcome                     0\n",
       "dtype: int64"
      ]
     },
     "execution_count": 4,
     "metadata": {},
     "output_type": "execute_result"
    }
   ],
   "source": [
    "df_patient_data.isnull().sum()              # checks if any of the columns has a value >= \"1\" , meaning sum > 1 denotes some \"null\" values"
   ]
  },
  {
   "cell_type": "code",
   "execution_count": 122,
   "metadata": {},
   "outputs": [
    {
     "data": {
      "text/plain": [
       "Pregnancies                 False\n",
       "Glucose                     False\n",
       "BloodPressure               False\n",
       "SkinThickness               False\n",
       "Insulin                     False\n",
       "BMI                         False\n",
       "DiabetesPedigreeFunction    False\n",
       "Age                         False\n",
       "Outcome                     False\n",
       "dtype: bool"
      ]
     },
     "execution_count": 122,
     "metadata": {},
     "output_type": "execute_result"
    }
   ],
   "source": [
    "df_patient_data.isnull().any()              # determines if any columns has null values"
   ]
  },
  {
   "cell_type": "code",
   "execution_count": 123,
   "metadata": {},
   "outputs": [
    {
     "data": {
      "text/plain": [
       "Pregnancies                  True\n",
       "Glucose                      True\n",
       "BloodPressure                True\n",
       "SkinThickness                True\n",
       "Insulin                      True\n",
       "BMI                          True\n",
       "DiabetesPedigreeFunction    False\n",
       "Age                         False\n",
       "Outcome                      True\n",
       "dtype: bool"
      ]
     },
     "execution_count": 123,
     "metadata": {},
     "output_type": "execute_result"
    }
   ],
   "source": [
    "(df_patient_data == 0).any()          # determines if any columns has zero values in \"True\" or \"False\""
   ]
  },
  {
   "cell_type": "code",
   "execution_count": 124,
   "metadata": {},
   "outputs": [
    {
     "data": {
      "text/html": [
       "<div>\n",
       "<style scoped>\n",
       "    .dataframe tbody tr th:only-of-type {\n",
       "        vertical-align: middle;\n",
       "    }\n",
       "\n",
       "    .dataframe tbody tr th {\n",
       "        vertical-align: top;\n",
       "    }\n",
       "\n",
       "    .dataframe thead th {\n",
       "        text-align: right;\n",
       "    }\n",
       "</style>\n",
       "<table border=\"1\" class=\"dataframe\">\n",
       "  <thead>\n",
       "    <tr style=\"text-align: right;\">\n",
       "      <th></th>\n",
       "      <th>Pregnancies</th>\n",
       "      <th>Glucose</th>\n",
       "      <th>BloodPressure</th>\n",
       "      <th>SkinThickness</th>\n",
       "      <th>Insulin</th>\n",
       "      <th>BMI</th>\n",
       "      <th>DiabetesPedigreeFunction</th>\n",
       "      <th>Age</th>\n",
       "      <th>Outcome</th>\n",
       "    </tr>\n",
       "  </thead>\n",
       "  <tbody>\n",
       "    <tr>\n",
       "      <th>0</th>\n",
       "      <td>6</td>\n",
       "      <td>148</td>\n",
       "      <td>72</td>\n",
       "      <td>35</td>\n",
       "      <td>0</td>\n",
       "      <td>33.6</td>\n",
       "      <td>0.627</td>\n",
       "      <td>50</td>\n",
       "      <td>1</td>\n",
       "    </tr>\n",
       "    <tr>\n",
       "      <th>1</th>\n",
       "      <td>1</td>\n",
       "      <td>85</td>\n",
       "      <td>66</td>\n",
       "      <td>29</td>\n",
       "      <td>0</td>\n",
       "      <td>26.6</td>\n",
       "      <td>0.351</td>\n",
       "      <td>31</td>\n",
       "      <td>0</td>\n",
       "    </tr>\n",
       "    <tr>\n",
       "      <th>2</th>\n",
       "      <td>8</td>\n",
       "      <td>183</td>\n",
       "      <td>64</td>\n",
       "      <td>0</td>\n",
       "      <td>0</td>\n",
       "      <td>23.3</td>\n",
       "      <td>0.672</td>\n",
       "      <td>32</td>\n",
       "      <td>1</td>\n",
       "    </tr>\n",
       "    <tr>\n",
       "      <th>5</th>\n",
       "      <td>5</td>\n",
       "      <td>116</td>\n",
       "      <td>74</td>\n",
       "      <td>0</td>\n",
       "      <td>0</td>\n",
       "      <td>25.6</td>\n",
       "      <td>0.201</td>\n",
       "      <td>30</td>\n",
       "      <td>0</td>\n",
       "    </tr>\n",
       "    <tr>\n",
       "      <th>7</th>\n",
       "      <td>10</td>\n",
       "      <td>115</td>\n",
       "      <td>0</td>\n",
       "      <td>0</td>\n",
       "      <td>0</td>\n",
       "      <td>35.3</td>\n",
       "      <td>0.134</td>\n",
       "      <td>29</td>\n",
       "      <td>0</td>\n",
       "    </tr>\n",
       "    <tr>\n",
       "      <th>...</th>\n",
       "      <td>...</td>\n",
       "      <td>...</td>\n",
       "      <td>...</td>\n",
       "      <td>...</td>\n",
       "      <td>...</td>\n",
       "      <td>...</td>\n",
       "      <td>...</td>\n",
       "      <td>...</td>\n",
       "      <td>...</td>\n",
       "    </tr>\n",
       "    <tr>\n",
       "      <th>761</th>\n",
       "      <td>9</td>\n",
       "      <td>170</td>\n",
       "      <td>74</td>\n",
       "      <td>31</td>\n",
       "      <td>0</td>\n",
       "      <td>44.0</td>\n",
       "      <td>0.403</td>\n",
       "      <td>43</td>\n",
       "      <td>1</td>\n",
       "    </tr>\n",
       "    <tr>\n",
       "      <th>762</th>\n",
       "      <td>9</td>\n",
       "      <td>89</td>\n",
       "      <td>62</td>\n",
       "      <td>0</td>\n",
       "      <td>0</td>\n",
       "      <td>22.5</td>\n",
       "      <td>0.142</td>\n",
       "      <td>33</td>\n",
       "      <td>0</td>\n",
       "    </tr>\n",
       "    <tr>\n",
       "      <th>764</th>\n",
       "      <td>2</td>\n",
       "      <td>122</td>\n",
       "      <td>70</td>\n",
       "      <td>27</td>\n",
       "      <td>0</td>\n",
       "      <td>36.8</td>\n",
       "      <td>0.340</td>\n",
       "      <td>27</td>\n",
       "      <td>0</td>\n",
       "    </tr>\n",
       "    <tr>\n",
       "      <th>766</th>\n",
       "      <td>1</td>\n",
       "      <td>126</td>\n",
       "      <td>60</td>\n",
       "      <td>0</td>\n",
       "      <td>0</td>\n",
       "      <td>30.1</td>\n",
       "      <td>0.349</td>\n",
       "      <td>47</td>\n",
       "      <td>1</td>\n",
       "    </tr>\n",
       "    <tr>\n",
       "      <th>767</th>\n",
       "      <td>1</td>\n",
       "      <td>93</td>\n",
       "      <td>70</td>\n",
       "      <td>31</td>\n",
       "      <td>0</td>\n",
       "      <td>30.4</td>\n",
       "      <td>0.315</td>\n",
       "      <td>23</td>\n",
       "      <td>0</td>\n",
       "    </tr>\n",
       "  </tbody>\n",
       "</table>\n",
       "<p>374 rows × 9 columns</p>\n",
       "</div>"
      ],
      "text/plain": [
       "     Pregnancies  Glucose  BloodPressure  SkinThickness  Insulin   BMI  \\\n",
       "0              6      148             72             35        0  33.6   \n",
       "1              1       85             66             29        0  26.6   \n",
       "2              8      183             64              0        0  23.3   \n",
       "5              5      116             74              0        0  25.6   \n",
       "7             10      115              0              0        0  35.3   \n",
       "..           ...      ...            ...            ...      ...   ...   \n",
       "761            9      170             74             31        0  44.0   \n",
       "762            9       89             62              0        0  22.5   \n",
       "764            2      122             70             27        0  36.8   \n",
       "766            1      126             60              0        0  30.1   \n",
       "767            1       93             70             31        0  30.4   \n",
       "\n",
       "     DiabetesPedigreeFunction  Age  Outcome  \n",
       "0                       0.627   50        1  \n",
       "1                       0.351   31        0  \n",
       "2                       0.672   32        1  \n",
       "5                       0.201   30        0  \n",
       "7                       0.134   29        0  \n",
       "..                        ...  ...      ...  \n",
       "761                     0.403   43        1  \n",
       "762                     0.142   33        0  \n",
       "764                     0.340   27        0  \n",
       "766                     0.349   47        1  \n",
       "767                     0.315   23        0  \n",
       "\n",
       "[374 rows x 9 columns]"
      ]
     },
     "execution_count": 124,
     "metadata": {},
     "output_type": "execute_result"
    }
   ],
   "source": [
    "# display patients with 0 Insulin (i.e, not measured or missing value) - such columns would need \n",
    "# Imputation: Replace missing values with a statistical measure such as the mean, median, or mode of the non-missing values.\n",
    "\n",
    "df_patient_zero = df_patient_data[df_patient_data['Insulin'] == 0]\n",
    "df_patient_zero"
   ]
  },
  {
   "cell_type": "markdown",
   "metadata": {},
   "source": [
    "> #### Simple Imputation"
   ]
  },
  {
   "cell_type": "code",
   "execution_count": 125,
   "metadata": {},
   "outputs": [
    {
     "data": {
      "text/plain": [
       "Pregnancies                  True\n",
       "Glucose                     False\n",
       "BloodPressure               False\n",
       "SkinThickness               False\n",
       "Insulin                     False\n",
       "BMI                         False\n",
       "DiabetesPedigreeFunction    False\n",
       "Age                         False\n",
       "Outcome                      True\n",
       "dtype: bool"
      ]
     },
     "execution_count": 125,
     "metadata": {},
     "output_type": "execute_result"
    }
   ],
   "source": [
    "# Replace zero's with \"NaN\" in columns where zero values do not make sense\n",
    "cols_with_nonsenical_zeros: list[str] =  ['Glucose', 'BloodPressure', 'SkinThickness', 'Insulin', 'BMI']\n",
    "df_patient_data[cols_with_nonsenical_zeros] = df_patient_data[cols_with_nonsenical_zeros].replace(0, np.nan)\n",
    "\n",
    "# Impute the NaN's with mean of respective column\n",
    "df_patient_data.fillna(df_patient_data.mean(), inplace = True)\n",
    "\n",
    "# check if \"NaN\" present - summed up\n",
    "# print(df_patient_data.isna().sum())\n",
    "\n",
    "# now checking again if any meaningful columns has zero aka missing values or NaN's\n",
    "(df_patient_data == 0).any()"
   ]
  },
  {
   "cell_type": "markdown",
   "metadata": {},
   "source": [
    "> #### Feature Engineering"
   ]
  },
  {
   "cell_type": "code",
   "execution_count": 126,
   "metadata": {},
   "outputs": [
    {
     "name": "stdout",
     "output_type": "stream",
     "text": [
      "Features or input variables:\n",
      ",    Pregnancies  Glucose  BloodPressure  SkinThickness     Insulin   BMI  \\\n",
      "0            6    148.0           72.0       35.00000  155.548223  33.6   \n",
      "1            1     85.0           66.0       29.00000  155.548223  26.6   \n",
      "2            8    183.0           64.0       29.15342  155.548223  23.3   \n",
      "3            1     89.0           66.0       23.00000   94.000000  28.1   \n",
      "4            0    137.0           40.0       35.00000  168.000000  43.1   \n",
      "\n",
      "   DiabetesPedigreeFunction  Age  \n",
      "0                     0.627   50  \n",
      "1                     0.351   31  \n",
      "2                     0.672   32  \n",
      "3                     0.167   21  \n",
      "4                     2.288   33  , \n",
      "\n",
      "and shape is, (768, 8)\n",
      "\n",
      "Target or output variables:\n",
      ", 0    1\n",
      "1    0\n",
      "2    1\n",
      "3    0\n",
      "4    1\n",
      "Name: Outcome, dtype: int64, \n",
      "and shape is, (768,)\n"
     ]
    }
   ],
   "source": [
    "# divide data into train (input / features) & test (output) data\n",
    "from pandas.core.frame import DataFrame, Series\n",
    "from sklearn.model_selection import train_test_split\n",
    "\n",
    "X: DataFrame = df_patient_data.drop('Outcome', axis = 1)\n",
    "y: Series = df_patient_data['Outcome']\n",
    "\n",
    "X_train, X_test, y_train, y_test = train_test_split(X, y,\n",
    "                                                    test_size = 0.3,\n",
    "                                                    random_state = 42)\n",
    "\n",
    "print(f'Features or input variables:\\n, {X.head()}, \\n\\nand shape is, {X.shape}')\n",
    "\n",
    "print(f'\\nTarget or output variables:\\n, {y.head()}, \\nand shape is, {y.shape}')"
   ]
  },
  {
   "cell_type": "code",
   "execution_count": 127,
   "metadata": {},
   "outputs": [
    {
     "name": "stdout",
     "output_type": "stream",
     "text": [
      "Scaled X_train:\n",
      ", [[-0.8362943  -0.89610788 -1.00440048 -1.27450178 -1.14686808 -1.20403257\n",
      "  -0.61421636 -0.94861028]\n",
      " [ 0.39072767 -0.56399695 -0.02026586  0.02449184  1.99579164  0.66428525\n",
      "  -0.90973787 -0.43466673]\n",
      " [-1.14304979  0.43233584 -0.34831073  1.55966612  1.11302206  1.44035573\n",
      "  -0.30699103 -0.77729576]\n",
      " [ 0.08397217  0.29949146 -0.34831073 -0.92023079  0.12432012  0.11816158\n",
      "  -0.90681191 -0.43466673]\n",
      " [-0.8362943  -0.63041914 -3.46473705  1.08730481 -0.85261155  1.58407249\n",
      "  -0.83951493 -0.00638043]], \n",
      "\n",
      "and shape is, (537, 8)\n",
      "\n",
      "Scaled X_test:\n",
      ", [[ 6.97483158e-01 -7.96474605e-01 -1.16842292e+00  4.96853160e-01\n",
      "   4.06806388e-01  2.47506663e-01 -1.16803926e-01  8.50192166e-01]\n",
      " [-5.29538810e-01 -3.31519303e-01  2.25767799e-01  3.78762831e-01\n",
      "   1.29998139e-03  4.91825147e-01 -9.41923376e-01 -1.03426754e+00]\n",
      " [-5.29538810e-01 -4.64363675e-01 -6.76355609e-01  4.26092128e-02\n",
      "   1.29998139e-03 -2.12386954e-01 -9.12663821e-01 -1.03426754e+00]\n",
      " [ 1.31099414e+00 -4.97574768e-01  6.35823893e-01  4.26092128e-02\n",
      "   1.29998139e-03 -1.10343084e+00  1.12965312e+00  7.92768305e-02]\n",
      " [ 1.00423865e+00  4.65546928e-01  1.45593608e+00  4.26092128e-02\n",
      "   1.29998139e-03 -3.41732034e-01 -7.60514135e-01  1.44979298e+00]], \n",
      "\n",
      "and shape is, (231, 8)\n"
     ]
    }
   ],
   "source": [
    "# Optional: Scale the input (features data - both train & test data) for better model performance\n",
    "from sklearn.preprocessing import StandardScaler\n",
    "scaler = StandardScaler()\n",
    "X_train = scaler.fit_transform(X_train)\n",
    "X_test = scaler.transform(X_test)\n",
    "\n",
    "print(f'Scaled X_train:\\n, {X_train[:5]}, \\n\\nand shape is, {X_train.shape}')       # prints a large vectorised array like [[-0.8362943  -0.89610788 -1.00440048 -1.27450178 -1.14686808 -1.20403257\n",
    "\n",
    "print(f'\\nScaled X_test:\\n, {X_test[:5]}, \\n\\nand shape is, {X_test.shape}')"
   ]
  },
  {
   "cell_type": "markdown",
   "metadata": {},
   "source": [
    "> #### GridSearchCV\n",
    "> #### Define the **hyperparameter space** / values"
   ]
  },
  {
   "cell_type": "code",
   "execution_count": 130,
   "metadata": {},
   "outputs": [],
   "source": [
    "# Fitting 10 folds for each of 432 candidates, totalling 4320 fits --> estimated 16m 51s\n",
    "\n",
    "# 1> Number of trees in random forest\n",
    "n_estimators: list[int] = [20, 60, 100, 120]\n",
    "\n",
    "# 2> Number of features to consider at every split\n",
    "max_features: list[float] = [0.2, 0.6, 1.0]\n",
    "\n",
    "# 3> Maximum number of levels in tree\n",
    "max_depth = [2, 8, None]\n",
    "\n",
    "# 4> Number of samples\n",
    "max_samples: list[float] = [0.5, 0.75, 1.0]\n",
    "\n",
    "# 5> Bootstrap samples\n",
    "bootstrap: list[bool] = [True, False]\n",
    "\n",
    "# 6> Minimum number of samples required to split a node\n",
    "min_samples_split = [2, 5]\n",
    "\n",
    "# 7> Minimum number of samples required at each leaf node\n",
    "min_samples_leaf = [1, 2]\n",
    "\n",
    "hyper_params_grid: dict[str, object] = {\n",
    "    'n_estimators': n_estimators,\n",
    "    'max_features': max_features,\n",
    "    'max_depth': max_depth,\n",
    "    'max_samples': max_samples,    \n",
    "    'min_samples_split':min_samples_split,\n",
    "    'min_samples_leaf':min_samples_leaf\n",
    "}\n",
    "print(hyper_params_grid)"
   ]
  },
  {
   "cell_type": "code",
   "execution_count": null,
   "metadata": {},
   "outputs": [],
   "source": [
    "# # for SMALLER RUNS: - \"Fitting 5 folds for each of 32 candidates, totalling 160 fits\"\n",
    "# # 1> Number of trees in random forest\n",
    "# n_estimators: list[int] = [20]\n",
    "\n",
    "# # 2> Number of features to consider at every split\n",
    "# max_features: list[float] = [0.2, 0.4]\n",
    "\n",
    "# # 3> Maximum number of levels in tree\n",
    "# max_depth = [2, None]\n",
    "\n",
    "# # 4> Number of samples\n",
    "# max_samples: list[float] = [0.5, 0.6]\n",
    "\n",
    "# # 5> Bootstrap samples\n",
    "# bootstrap: list[bool] = [True, False]\n",
    "\n",
    "# # 6> Minimum number of samples required to split a node\n",
    "# min_samples_split = [2, 4]\n",
    "\n",
    "# # 7> Minimum number of samples required at each leaf node\n",
    "# min_samples_leaf = [1, 2]\n",
    "\n",
    "# hyper_params_grid: dict[str, object] = {\n",
    "#     'n_estimators': n_estimators,\n",
    "#     'max_features': max_features,\n",
    "#     'max_depth': max_depth,\n",
    "#     'max_samples': max_samples,              # 'bootstrap':bootstrap and    \"max_samples\" do not go hand in hand, hence commented\n",
    "#     'min_samples_split':min_samples_split,\n",
    "#     'min_samples_leaf':min_samples_leaf\n",
    "# }"
   ]
  },
  {
   "cell_type": "code",
   "execution_count": null,
   "metadata": {},
   "outputs": [],
   "source": [
    "from sklearn.ensemble import RandomForestClassifier\n",
    "from sklearn.model_selection import GridSearchCV\n",
    "from sklearn.metrics import accuracy_score, precision_score, recall_score, f1_score\n",
    "\n",
    "model = RandomForestClassifier(random_state = 42)\n",
    "grid_search = GridSearchCV(estimator = model,\n",
    "                           param_grid = hyper_params_grid,\n",
    "                           scoring = ['accuracy','f1'],       \n",
    "                           cv = 2,                              # cv = 2 from 10 to reduce load on local m/c\n",
    "                           verbose = 2,                         # n_jobs = -1,                            \n",
    "                           return_train_score = True,\n",
    "                           refit = 'f1')"
   ]
  },
  {
   "cell_type": "code",
   "execution_count": 131,
   "metadata": {},
   "outputs": [
    {
     "name": "stderr",
     "output_type": "stream",
     "text": [
      "[I 2025-01-26 03:34:50,571] A new study created in memory with name: no-name-2d55485b-5b5a-438c-8126-47743534e24d\n"
     ]
    },
    {
     "name": "stderr",
     "output_type": "stream",
     "text": [
      "[I 2025-01-26 03:34:50,624] Trial 0 finished with value: 0.750465549348231 and parameters: {'n_estimators': 20, 'max_features': 0.6, 'max_depth': None, 'max_samples': 1.0, 'bootstrap': False, 'min_samples_split': 5, 'min_samples_leaf': 2}. Best is trial 0 with value: 0.750465549348231.\n",
      "[I 2025-01-26 03:34:50,897] Trial 1 finished with value: 0.7541899441340782 and parameters: {'n_estimators': 120, 'max_features': 1.0, 'max_depth': None, 'max_samples': 0.5, 'bootstrap': True, 'min_samples_split': 2, 'min_samples_leaf': 1}. Best is trial 1 with value: 0.7541899441340782.\n",
      "[I 2025-01-26 03:34:51,102] Trial 2 finished with value: 0.7579143389199254 and parameters: {'n_estimators': 120, 'max_features': 1.0, 'max_depth': 2, 'max_samples': 1.0, 'bootstrap': False, 'min_samples_split': 5, 'min_samples_leaf': 2}. Best is trial 2 with value: 0.7579143389199254.\n",
      "[I 2025-01-26 03:34:51,290] Trial 3 finished with value: 0.7932960893854748 and parameters: {'n_estimators': 120, 'max_features': 0.2, 'max_depth': None, 'max_samples': 0.5, 'bootstrap': True, 'min_samples_split': 2, 'min_samples_leaf': 2}. Best is trial 3 with value: 0.7932960893854748.\n",
      "[I 2025-01-26 03:34:51,385] Trial 4 finished with value: 0.7877094972067039 and parameters: {'n_estimators': 60, 'max_features': 0.2, 'max_depth': 8, 'max_samples': 0.5, 'bootstrap': True, 'min_samples_split': 5, 'min_samples_leaf': 1}. Best is trial 3 with value: 0.7932960893854748.\n"
     ]
    },
    {
     "name": "stdout",
     "output_type": "stream",
     "text": [
      "🏃 View run trial_0 at: http://127.0.0.1:5000/#/experiments/638940344264241299/runs/726c581b8bdf4d0a82e67b49800bd352\n",
      "🧪 View experiment at: http://127.0.0.1:5000/#/experiments/638940344264241299\n",
      "🏃 View run trial_1 at: http://127.0.0.1:5000/#/experiments/638940344264241299/runs/5b045dd0e8a74253837854c5a5f6f38d\n",
      "🧪 View experiment at: http://127.0.0.1:5000/#/experiments/638940344264241299\n",
      "🏃 View run trial_2 at: http://127.0.0.1:5000/#/experiments/638940344264241299/runs/9a39e05e20a04a05bc7a127024fa6b76\n",
      "🧪 View experiment at: http://127.0.0.1:5000/#/experiments/638940344264241299\n",
      "🏃 View run trial_3 at: http://127.0.0.1:5000/#/experiments/638940344264241299/runs/5067895965aa4ef990729f7e736aa7a5\n",
      "🧪 View experiment at: http://127.0.0.1:5000/#/experiments/638940344264241299\n",
      "🏃 View run trial_4 at: http://127.0.0.1:5000/#/experiments/638940344264241299/runs/7bcce3bc6d014a938a404b8cd2c4d8ba\n",
      "🧪 View experiment at: http://127.0.0.1:5000/#/experiments/638940344264241299\n",
      "🏃 View run series_of_runs at: http://127.0.0.1:5000/#/experiments/638940344264241299/runs/17e10d6bd4f2404da33b07775a7ec1f6\n",
      "🧪 View experiment at: http://127.0.0.1:5000/#/experiments/638940344264241299\n"
     ]
    }
   ],
   "source": [
    "import mlflow as mfl\n",
    "if not mfl.is_tracking_uri_set():\n",
    "    mfl.set_tracking_uri(uri = 'http://127.0.0.1:5000')\n",
    "\n",
    "# set the experiment name\n",
    "mfl.set_experiment('RandomForest Grid-Search-CV HyperParameter Tuning')\n",
    "\n",
    "\n",
    "with mfl.start_run(run_name = 'series_of_runs') as parent: \n",
    "    # Fit GridSearchCV to the training data\n",
    "    grid_search.fit(X_train, y_train)\n",
    "\n",
    "    results = grid_search.cv_results_\n",
    "    print(f'The grid search cv tuning results are: {results}')\n",
    "\n",
    "    for exp_num, params in enumerate(results['params']):\n",
    "        with mfl.start_run(run_name = f'Experiment: {exp_num}', nested = True) as parent: \n",
    "            # Log the parameters\n",
    "            mfl.log_params(params)\n",
    "\n",
    "            # Log the metrics\n",
    "            train_metrics = {\n",
    "                'train_accuracy': results['mean_train_accuracy'][exp_num],\n",
    "                'train_f1': results['mean_train_f1'][exp_num]\n",
    "            }\n",
    "            \n",
    "            test_metrics = {\n",
    "                'test_accuracy': results['mean_test_accuracy'][exp_num],\n",
    "                'test_f1': results['mean_test_f1'][exp_num]\n",
    "            }\n",
    "            \n",
    "            mfl.log_metrics(train_metrics)\n",
    "            mfl.log_metrics(test_metrics)\n",
    "            \n",
    "            # Train the model with the current hyper-parameters received from the tuned results\n",
    "            model.set_params(**params)\n",
    "            model.fit(X_train, y_train)\n",
    "\n",
    "\n",
    "            # Make predictions on the test set\n",
    "            y_pred = model.predict(X_test)\n",
    "            \n",
    "            # Calculate additional metrics & log them\n",
    "            precision = precision_score(y_test, y_pred,\n",
    "                                        average = 'weighted')\n",
    "            \n",
    "            recall = recall_score(y_test, y_pred, \n",
    "                                  average = 'weighted')\n",
    "            \n",
    "            f1 = f1_score(y_test, y_pred, \n",
    "                          average = 'weighted')\n",
    "            \n",
    "            # Log additional metrics\n",
    "            mfl.log_metric('precision', precision)\n",
    "            mfl.log_metric('recall', recall)\n",
    "            mfl.log_metric('f1_score', f1)"
   ]
  },
  {
   "cell_type": "code",
   "execution_count": 132,
   "metadata": {},
   "outputs": [
    {
     "name": "stdout",
     "output_type": "stream",
     "text": [
      "Best trial accuracy: 0.79\n",
      "Best hyperparameters: {'n_estimators': 120, 'max_features': 0.2, 'max_depth': None, 'max_samples': 0.5, 'bootstrap': True, 'min_samples_split': 2, 'min_samples_leaf': 2}\n",
      "Test Accuracy with best hyperparameters: 0.76\n",
      "Best precision score: 0.65\n",
      "Best confusion matrix: [[124  27]\n",
      " [ 29  51]]\n"
     ]
    }
   ],
   "source": [
    "# Print the best results\n",
    "best_params = grid_search.best_params_\n",
    "print(f'Best hyperparameters: {best_params}')\n",
    "\n",
    "best_model = grid_search.best_estimator_\n",
    "print(f'Best model: {best_model}')\n",
    "\n",
    "best_train_accuracy_score: float = grid_search.best_score_\n",
    "print(f'Best training accuracy: {best_train_accuracy_score:.2f}')\n",
    "\n",
    "best_test_accuracy_score: float = accuracy_score(y_test, best_model.predict(X_test))\n",
    "print(f'Test Accuracy with best hyperparameters: {best_test_accuracy_score:.2f}')"
   ]
  },
  {
   "cell_type": "code",
   "execution_count": 134,
   "metadata": {},
   "outputs": [
    {
     "name": "stderr",
     "output_type": "stream",
     "text": [
      "2025/01/26 03:34:51 WARNING mlflow.sklearn: Model was missing function: predict. Not logging python_function flavor!\n",
      "Registered model 'RandomForestClassifier_model' already exists. Creating a new version of this model...\n",
      "2025/01/26 03:34:52 INFO mlflow.store.model_registry.abstract_store: Waiting up to 300 seconds for model version to finish creation. Model name: RandomForestClassifier_model, version 4\n"
     ]
    },
    {
     "name": "stdout",
     "output_type": "stream",
     "text": [
      "🏃 View run best_model at: http://127.0.0.1:5000/#/experiments/638940344264241299/runs/e264b6a235084a799f08b10197c9cc49\n",
      "🧪 View experiment at: http://127.0.0.1:5000/#/experiments/638940344264241299\n"
     ]
    },
    {
     "name": "stderr",
     "output_type": "stream",
     "text": [
      "Created version '4' of model 'RandomForestClassifier_model'.\n"
     ]
    }
   ],
   "source": [
    "signature = mfl.models.infer_signature(model_input = X_train,\n",
    "                                       model_output = best_model.predict(X_test))\n",
    "# Log the best model\n",
    "with mfl.start_run(run_name = 'best_model') as best_model:       \n",
    "    mfl.log_params(best_params)\n",
    "    mfl.log_metric('best_train_accuracy', best_train_accuracy_score)\n",
    "    mfl.log_metric('best_test_accuracy', best_test_accuracy_score)\n",
    "    \n",
    "    # Log the confusion matrix as an artifact\n",
    "    mfl.sklearn.log_model(best_model,\n",
    "                          artifact_path = 'final_model',\n",
    "                          registered_model_name = 'RandomForestClassifier_model',\n",
    "                          signature = signature)"
   ]
  }
 ],
 "metadata": {
  "kernelspec": {
   "display_name": ".venv",
   "language": "python",
   "name": "python3"
  },
  "language_info": {
   "codemirror_mode": {
    "name": "ipython",
    "version": 3
   },
   "file_extension": ".py",
   "mimetype": "text/x-python",
   "name": "python",
   "nbconvert_exporter": "python",
   "pygments_lexer": "ipython3",
   "version": "3.12.7"
  }
 },
 "nbformat": 4,
 "nbformat_minor": 2
}
