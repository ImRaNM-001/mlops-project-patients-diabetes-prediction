{
 "cells": [
  {
   "cell_type": "markdown",
   "metadata": {},
   "source": [
    "#### Solve a **Multivariate Classification** problem using **RandomForestclassifier** algorithm\n",
    "\n",
    "- Hyperparameter tuned applying \n",
    "\n",
    "    - **Bayesian search** optimization using **Optuna** library \n"
   ]
  },
  {
   "cell_type": "markdown",
   "metadata": {},
   "source": [
    "> ### Dataset used: &emsp;[Pima Indians Diabetes Database](https://www.kaggle.com/datasets/uciml/pima-indians-diabetes-database)"
   ]
  },
  {
   "cell_type": "code",
   "execution_count": 4,
   "metadata": {},
   "outputs": [],
   "source": [
    "import numpy as np\n",
    "import pandas as pd"
   ]
  },
  {
   "cell_type": "code",
   "execution_count": 2,
   "metadata": {},
   "outputs": [
    {
     "data": {
      "text/html": [
       "<div>\n",
       "<style scoped>\n",
       "    .dataframe tbody tr th:only-of-type {\n",
       "        vertical-align: middle;\n",
       "    }\n",
       "\n",
       "    .dataframe tbody tr th {\n",
       "        vertical-align: top;\n",
       "    }\n",
       "\n",
       "    .dataframe thead th {\n",
       "        text-align: right;\n",
       "    }\n",
       "</style>\n",
       "<table border=\"1\" class=\"dataframe\">\n",
       "  <thead>\n",
       "    <tr style=\"text-align: right;\">\n",
       "      <th></th>\n",
       "      <th>Pregnancies</th>\n",
       "      <th>Glucose</th>\n",
       "      <th>BloodPressure</th>\n",
       "      <th>SkinThickness</th>\n",
       "      <th>Insulin</th>\n",
       "      <th>BMI</th>\n",
       "      <th>DiabetesPedigreeFunction</th>\n",
       "      <th>Age</th>\n",
       "      <th>Outcome</th>\n",
       "    </tr>\n",
       "  </thead>\n",
       "  <tbody>\n",
       "    <tr>\n",
       "      <th>0</th>\n",
       "      <td>6</td>\n",
       "      <td>148</td>\n",
       "      <td>72</td>\n",
       "      <td>35</td>\n",
       "      <td>0</td>\n",
       "      <td>33.6</td>\n",
       "      <td>0.627</td>\n",
       "      <td>50</td>\n",
       "      <td>1</td>\n",
       "    </tr>\n",
       "    <tr>\n",
       "      <th>1</th>\n",
       "      <td>1</td>\n",
       "      <td>85</td>\n",
       "      <td>66</td>\n",
       "      <td>29</td>\n",
       "      <td>0</td>\n",
       "      <td>26.6</td>\n",
       "      <td>0.351</td>\n",
       "      <td>31</td>\n",
       "      <td>0</td>\n",
       "    </tr>\n",
       "    <tr>\n",
       "      <th>2</th>\n",
       "      <td>8</td>\n",
       "      <td>183</td>\n",
       "      <td>64</td>\n",
       "      <td>0</td>\n",
       "      <td>0</td>\n",
       "      <td>23.3</td>\n",
       "      <td>0.672</td>\n",
       "      <td>32</td>\n",
       "      <td>1</td>\n",
       "    </tr>\n",
       "    <tr>\n",
       "      <th>3</th>\n",
       "      <td>1</td>\n",
       "      <td>89</td>\n",
       "      <td>66</td>\n",
       "      <td>23</td>\n",
       "      <td>94</td>\n",
       "      <td>28.1</td>\n",
       "      <td>0.167</td>\n",
       "      <td>21</td>\n",
       "      <td>0</td>\n",
       "    </tr>\n",
       "    <tr>\n",
       "      <th>4</th>\n",
       "      <td>0</td>\n",
       "      <td>137</td>\n",
       "      <td>40</td>\n",
       "      <td>35</td>\n",
       "      <td>168</td>\n",
       "      <td>43.1</td>\n",
       "      <td>2.288</td>\n",
       "      <td>33</td>\n",
       "      <td>1</td>\n",
       "    </tr>\n",
       "    <tr>\n",
       "      <th>5</th>\n",
       "      <td>5</td>\n",
       "      <td>116</td>\n",
       "      <td>74</td>\n",
       "      <td>0</td>\n",
       "      <td>0</td>\n",
       "      <td>25.6</td>\n",
       "      <td>0.201</td>\n",
       "      <td>30</td>\n",
       "      <td>0</td>\n",
       "    </tr>\n",
       "    <tr>\n",
       "      <th>6</th>\n",
       "      <td>3</td>\n",
       "      <td>78</td>\n",
       "      <td>50</td>\n",
       "      <td>32</td>\n",
       "      <td>88</td>\n",
       "      <td>31.0</td>\n",
       "      <td>0.248</td>\n",
       "      <td>26</td>\n",
       "      <td>1</td>\n",
       "    </tr>\n",
       "    <tr>\n",
       "      <th>7</th>\n",
       "      <td>10</td>\n",
       "      <td>115</td>\n",
       "      <td>0</td>\n",
       "      <td>0</td>\n",
       "      <td>0</td>\n",
       "      <td>35.3</td>\n",
       "      <td>0.134</td>\n",
       "      <td>29</td>\n",
       "      <td>0</td>\n",
       "    </tr>\n",
       "    <tr>\n",
       "      <th>8</th>\n",
       "      <td>2</td>\n",
       "      <td>197</td>\n",
       "      <td>70</td>\n",
       "      <td>45</td>\n",
       "      <td>543</td>\n",
       "      <td>30.5</td>\n",
       "      <td>0.158</td>\n",
       "      <td>53</td>\n",
       "      <td>1</td>\n",
       "    </tr>\n",
       "    <tr>\n",
       "      <th>9</th>\n",
       "      <td>8</td>\n",
       "      <td>125</td>\n",
       "      <td>96</td>\n",
       "      <td>0</td>\n",
       "      <td>0</td>\n",
       "      <td>0.0</td>\n",
       "      <td>0.232</td>\n",
       "      <td>54</td>\n",
       "      <td>1</td>\n",
       "    </tr>\n",
       "  </tbody>\n",
       "</table>\n",
       "</div>"
      ],
      "text/plain": [
       "   Pregnancies  Glucose  BloodPressure  SkinThickness  Insulin   BMI  \\\n",
       "0            6      148             72             35        0  33.6   \n",
       "1            1       85             66             29        0  26.6   \n",
       "2            8      183             64              0        0  23.3   \n",
       "3            1       89             66             23       94  28.1   \n",
       "4            0      137             40             35      168  43.1   \n",
       "5            5      116             74              0        0  25.6   \n",
       "6            3       78             50             32       88  31.0   \n",
       "7           10      115              0              0        0  35.3   \n",
       "8            2      197             70             45      543  30.5   \n",
       "9            8      125             96              0        0   0.0   \n",
       "\n",
       "   DiabetesPedigreeFunction  Age  Outcome  \n",
       "0                     0.627   50        1  \n",
       "1                     0.351   31        0  \n",
       "2                     0.672   32        1  \n",
       "3                     0.167   21        0  \n",
       "4                     2.288   33        1  \n",
       "5                     0.201   30        0  \n",
       "6                     0.248   26        1  \n",
       "7                     0.134   29        0  \n",
       "8                     0.158   53        1  \n",
       "9                     0.232   54        1  "
      ]
     },
     "execution_count": 2,
     "metadata": {},
     "output_type": "execute_result"
    }
   ],
   "source": [
    "# define column names\n",
    "column_names: list[str] = ['Pregnancies', 'Glucose', 'BloodPressure', 'SkinThickness', 'Insulin', 'BMI', 'DiabetesPedigreeFunction', 'Age', 'Outcome']\n",
    "\n",
    "# Load the data from the .csv file\n",
    "df_patient_data = pd.read_csv('../data/processed/pima-indians-diabetes.csv',\n",
    "                          header = None,\n",
    "                          names = column_names)\n",
    "\n",
    "df_patient_data.head(10)              # df_patient_data.head() only gets 1st 5 rows"
   ]
  },
  {
   "cell_type": "code",
   "execution_count": 3,
   "metadata": {},
   "outputs": [
    {
     "data": {
      "text/plain": [
       "Age\n",
       "22    72\n",
       "21    63\n",
       "25    48\n",
       "24    46\n",
       "23    38\n",
       "28    35\n",
       "26    33\n",
       "27    32\n",
       "29    29\n",
       "31    24\n",
       "41    22\n",
       "30    21\n",
       "37    19\n",
       "42    18\n",
       "33    17\n",
       "38    16\n",
       "36    16\n",
       "32    16\n",
       "45    15\n",
       "34    14\n",
       "46    13\n",
       "43    13\n",
       "40    13\n",
       "39    12\n",
       "35    10\n",
       "50     8\n",
       "51     8\n",
       "52     8\n",
       "44     8\n",
       "58     7\n",
       "47     6\n",
       "54     6\n",
       "49     5\n",
       "48     5\n",
       "57     5\n",
       "53     5\n",
       "60     5\n",
       "66     4\n",
       "63     4\n",
       "62     4\n",
       "55     4\n",
       "67     3\n",
       "56     3\n",
       "59     3\n",
       "65     3\n",
       "69     2\n",
       "61     2\n",
       "72     1\n",
       "81     1\n",
       "64     1\n",
       "70     1\n",
       "68     1\n",
       "Name: count, dtype: int64"
      ]
     },
     "execution_count": 3,
     "metadata": {},
     "output_type": "execute_result"
    }
   ],
   "source": [
    "df_patient_data['Age'].value_counts()           # find individual counts of \"Age\" for different age groups, this is like a basic EDA"
   ]
  },
  {
   "cell_type": "code",
   "execution_count": 181,
   "metadata": {},
   "outputs": [
    {
     "data": {
      "text/plain": [
       "Index(['Pregnancies', 'Glucose', 'BloodPressure', 'SkinThickness', 'Insulin',\n",
       "       'BMI', 'DiabetesPedigreeFunction', 'Age', 'Outcome'],\n",
       "      dtype='object')"
      ]
     },
     "execution_count": 181,
     "metadata": {},
     "output_type": "execute_result"
    }
   ],
   "source": [
    "df_patient_data.columns"
   ]
  },
  {
   "cell_type": "code",
   "execution_count": 5,
   "metadata": {},
   "outputs": [
    {
     "name": "stdout",
     "output_type": "stream",
     "text": [
      "<class 'pandas.core.frame.DataFrame'>\n",
      "RangeIndex: 768 entries, 0 to 767\n",
      "Data columns (total 9 columns):\n",
      " #   Column                    Non-Null Count  Dtype  \n",
      "---  ------                    --------------  -----  \n",
      " 0   Pregnancies               768 non-null    int64  \n",
      " 1   Glucose                   768 non-null    int64  \n",
      " 2   BloodPressure             768 non-null    int64  \n",
      " 3   SkinThickness             768 non-null    int64  \n",
      " 4   Insulin                   768 non-null    int64  \n",
      " 5   BMI                       768 non-null    float64\n",
      " 6   DiabetesPedigreeFunction  768 non-null    float64\n",
      " 7   Age                       768 non-null    int64  \n",
      " 8   Outcome                   768 non-null    int64  \n",
      "dtypes: float64(2), int64(7)\n",
      "memory usage: 54.1 KB\n"
     ]
    }
   ],
   "source": [
    "df_patient_data.info()              # gives information about column \"datatypes\" and if any null columns"
   ]
  },
  {
   "cell_type": "code",
   "execution_count": 6,
   "metadata": {},
   "outputs": [
    {
     "data": {
      "text/plain": [
       "(768, 9)"
      ]
     },
     "execution_count": 6,
     "metadata": {},
     "output_type": "execute_result"
    }
   ],
   "source": [
    "df_patient_data.shape           # (768, 9) --> 768 rows and 9 columns"
   ]
  },
  {
   "cell_type": "code",
   "execution_count": 184,
   "metadata": {},
   "outputs": [
    {
     "data": {
      "text/plain": [
       "Pregnancies                 0\n",
       "Glucose                     0\n",
       "BloodPressure               0\n",
       "SkinThickness               0\n",
       "Insulin                     0\n",
       "BMI                         0\n",
       "DiabetesPedigreeFunction    0\n",
       "Age                         0\n",
       "Outcome                     0\n",
       "dtype: int64"
      ]
     },
     "execution_count": 184,
     "metadata": {},
     "output_type": "execute_result"
    }
   ],
   "source": [
    "df_patient_data.isnull().sum()              # checks if any of the columns has a value >= \"1\" , meaning sum > 1 denotes some \"null\" values"
   ]
  },
  {
   "cell_type": "code",
   "execution_count": 185,
   "metadata": {},
   "outputs": [
    {
     "data": {
      "text/plain": [
       "Pregnancies                 False\n",
       "Glucose                     False\n",
       "BloodPressure               False\n",
       "SkinThickness               False\n",
       "Insulin                     False\n",
       "BMI                         False\n",
       "DiabetesPedigreeFunction    False\n",
       "Age                         False\n",
       "Outcome                     False\n",
       "dtype: bool"
      ]
     },
     "execution_count": 185,
     "metadata": {},
     "output_type": "execute_result"
    }
   ],
   "source": [
    "df_patient_data.isnull().any()              # determines if any columns has null values"
   ]
  },
  {
   "cell_type": "code",
   "execution_count": 186,
   "metadata": {},
   "outputs": [
    {
     "data": {
      "text/plain": [
       "Pregnancies                  True\n",
       "Glucose                      True\n",
       "BloodPressure                True\n",
       "SkinThickness                True\n",
       "Insulin                      True\n",
       "BMI                          True\n",
       "DiabetesPedigreeFunction    False\n",
       "Age                         False\n",
       "Outcome                      True\n",
       "dtype: bool"
      ]
     },
     "execution_count": 186,
     "metadata": {},
     "output_type": "execute_result"
    }
   ],
   "source": [
    "(df_patient_data == 0).any()          # determines if any columns has zero values in \"True\" or \"False\""
   ]
  },
  {
   "cell_type": "code",
   "execution_count": 187,
   "metadata": {},
   "outputs": [
    {
     "data": {
      "text/html": [
       "<div>\n",
       "<style scoped>\n",
       "    .dataframe tbody tr th:only-of-type {\n",
       "        vertical-align: middle;\n",
       "    }\n",
       "\n",
       "    .dataframe tbody tr th {\n",
       "        vertical-align: top;\n",
       "    }\n",
       "\n",
       "    .dataframe thead th {\n",
       "        text-align: right;\n",
       "    }\n",
       "</style>\n",
       "<table border=\"1\" class=\"dataframe\">\n",
       "  <thead>\n",
       "    <tr style=\"text-align: right;\">\n",
       "      <th></th>\n",
       "      <th>Pregnancies</th>\n",
       "      <th>Glucose</th>\n",
       "      <th>BloodPressure</th>\n",
       "      <th>SkinThickness</th>\n",
       "      <th>Insulin</th>\n",
       "      <th>BMI</th>\n",
       "      <th>DiabetesPedigreeFunction</th>\n",
       "      <th>Age</th>\n",
       "      <th>Outcome</th>\n",
       "    </tr>\n",
       "  </thead>\n",
       "  <tbody>\n",
       "    <tr>\n",
       "      <th>0</th>\n",
       "      <td>6</td>\n",
       "      <td>148</td>\n",
       "      <td>72</td>\n",
       "      <td>35</td>\n",
       "      <td>0</td>\n",
       "      <td>33.6</td>\n",
       "      <td>0.627</td>\n",
       "      <td>50</td>\n",
       "      <td>1</td>\n",
       "    </tr>\n",
       "    <tr>\n",
       "      <th>1</th>\n",
       "      <td>1</td>\n",
       "      <td>85</td>\n",
       "      <td>66</td>\n",
       "      <td>29</td>\n",
       "      <td>0</td>\n",
       "      <td>26.6</td>\n",
       "      <td>0.351</td>\n",
       "      <td>31</td>\n",
       "      <td>0</td>\n",
       "    </tr>\n",
       "    <tr>\n",
       "      <th>2</th>\n",
       "      <td>8</td>\n",
       "      <td>183</td>\n",
       "      <td>64</td>\n",
       "      <td>0</td>\n",
       "      <td>0</td>\n",
       "      <td>23.3</td>\n",
       "      <td>0.672</td>\n",
       "      <td>32</td>\n",
       "      <td>1</td>\n",
       "    </tr>\n",
       "    <tr>\n",
       "      <th>5</th>\n",
       "      <td>5</td>\n",
       "      <td>116</td>\n",
       "      <td>74</td>\n",
       "      <td>0</td>\n",
       "      <td>0</td>\n",
       "      <td>25.6</td>\n",
       "      <td>0.201</td>\n",
       "      <td>30</td>\n",
       "      <td>0</td>\n",
       "    </tr>\n",
       "    <tr>\n",
       "      <th>7</th>\n",
       "      <td>10</td>\n",
       "      <td>115</td>\n",
       "      <td>0</td>\n",
       "      <td>0</td>\n",
       "      <td>0</td>\n",
       "      <td>35.3</td>\n",
       "      <td>0.134</td>\n",
       "      <td>29</td>\n",
       "      <td>0</td>\n",
       "    </tr>\n",
       "    <tr>\n",
       "      <th>...</th>\n",
       "      <td>...</td>\n",
       "      <td>...</td>\n",
       "      <td>...</td>\n",
       "      <td>...</td>\n",
       "      <td>...</td>\n",
       "      <td>...</td>\n",
       "      <td>...</td>\n",
       "      <td>...</td>\n",
       "      <td>...</td>\n",
       "    </tr>\n",
       "    <tr>\n",
       "      <th>761</th>\n",
       "      <td>9</td>\n",
       "      <td>170</td>\n",
       "      <td>74</td>\n",
       "      <td>31</td>\n",
       "      <td>0</td>\n",
       "      <td>44.0</td>\n",
       "      <td>0.403</td>\n",
       "      <td>43</td>\n",
       "      <td>1</td>\n",
       "    </tr>\n",
       "    <tr>\n",
       "      <th>762</th>\n",
       "      <td>9</td>\n",
       "      <td>89</td>\n",
       "      <td>62</td>\n",
       "      <td>0</td>\n",
       "      <td>0</td>\n",
       "      <td>22.5</td>\n",
       "      <td>0.142</td>\n",
       "      <td>33</td>\n",
       "      <td>0</td>\n",
       "    </tr>\n",
       "    <tr>\n",
       "      <th>764</th>\n",
       "      <td>2</td>\n",
       "      <td>122</td>\n",
       "      <td>70</td>\n",
       "      <td>27</td>\n",
       "      <td>0</td>\n",
       "      <td>36.8</td>\n",
       "      <td>0.340</td>\n",
       "      <td>27</td>\n",
       "      <td>0</td>\n",
       "    </tr>\n",
       "    <tr>\n",
       "      <th>766</th>\n",
       "      <td>1</td>\n",
       "      <td>126</td>\n",
       "      <td>60</td>\n",
       "      <td>0</td>\n",
       "      <td>0</td>\n",
       "      <td>30.1</td>\n",
       "      <td>0.349</td>\n",
       "      <td>47</td>\n",
       "      <td>1</td>\n",
       "    </tr>\n",
       "    <tr>\n",
       "      <th>767</th>\n",
       "      <td>1</td>\n",
       "      <td>93</td>\n",
       "      <td>70</td>\n",
       "      <td>31</td>\n",
       "      <td>0</td>\n",
       "      <td>30.4</td>\n",
       "      <td>0.315</td>\n",
       "      <td>23</td>\n",
       "      <td>0</td>\n",
       "    </tr>\n",
       "  </tbody>\n",
       "</table>\n",
       "<p>374 rows × 9 columns</p>\n",
       "</div>"
      ],
      "text/plain": [
       "     Pregnancies  Glucose  BloodPressure  SkinThickness  Insulin   BMI  \\\n",
       "0              6      148             72             35        0  33.6   \n",
       "1              1       85             66             29        0  26.6   \n",
       "2              8      183             64              0        0  23.3   \n",
       "5              5      116             74              0        0  25.6   \n",
       "7             10      115              0              0        0  35.3   \n",
       "..           ...      ...            ...            ...      ...   ...   \n",
       "761            9      170             74             31        0  44.0   \n",
       "762            9       89             62              0        0  22.5   \n",
       "764            2      122             70             27        0  36.8   \n",
       "766            1      126             60              0        0  30.1   \n",
       "767            1       93             70             31        0  30.4   \n",
       "\n",
       "     DiabetesPedigreeFunction  Age  Outcome  \n",
       "0                       0.627   50        1  \n",
       "1                       0.351   31        0  \n",
       "2                       0.672   32        1  \n",
       "5                       0.201   30        0  \n",
       "7                       0.134   29        0  \n",
       "..                        ...  ...      ...  \n",
       "761                     0.403   43        1  \n",
       "762                     0.142   33        0  \n",
       "764                     0.340   27        0  \n",
       "766                     0.349   47        1  \n",
       "767                     0.315   23        0  \n",
       "\n",
       "[374 rows x 9 columns]"
      ]
     },
     "execution_count": 187,
     "metadata": {},
     "output_type": "execute_result"
    }
   ],
   "source": [
    "# display patients with 0 Insulin (i.e, not measured or missing value) - such columns would need \n",
    "# Imputation: Replace missing values with a statistical measure such as the mean, median, or mode of the non-missing values.\n",
    "\n",
    "df_patient_zero = df_patient_data[df_patient_data['Insulin'] == 0]\n",
    "df_patient_zero"
   ]
  },
  {
   "cell_type": "markdown",
   "metadata": {},
   "source": [
    "> #### Feature Engineering: Simple Imputation"
   ]
  },
  {
   "cell_type": "code",
   "execution_count": 188,
   "metadata": {},
   "outputs": [
    {
     "data": {
      "text/plain": [
       "Pregnancies                  True\n",
       "Glucose                     False\n",
       "BloodPressure               False\n",
       "SkinThickness               False\n",
       "Insulin                     False\n",
       "BMI                         False\n",
       "DiabetesPedigreeFunction    False\n",
       "Age                         False\n",
       "Outcome                      True\n",
       "dtype: bool"
      ]
     },
     "execution_count": 188,
     "metadata": {},
     "output_type": "execute_result"
    }
   ],
   "source": [
    "# Replace zero's with \"NaN\" in columns where zero values do not make sense\n",
    "cols_with_nonsenical_zeros: list[str] =  ['Glucose', 'BloodPressure', 'SkinThickness', 'Insulin', 'BMI']\n",
    "df_patient_data[cols_with_nonsenical_zeros] = df_patient_data[cols_with_nonsenical_zeros].replace(0, np.nan)\n",
    "\n",
    "# Impute the NaN's with mean of respective column\n",
    "df_patient_data.fillna(df_patient_data.mean(), inplace = True)\n",
    "\n",
    "# check if \"NaN\" present - summed up\n",
    "# print(df_patient_data.isna().sum())\n",
    "\n",
    "# now checking again if any meaningful columns has zero aka missing values or NaN's\n",
    "(df_patient_data == 0).any()"
   ]
  },
  {
   "cell_type": "markdown",
   "metadata": {},
   "source": [
    "> #### Split Train, Test data"
   ]
  },
  {
   "cell_type": "code",
   "execution_count": 189,
   "metadata": {},
   "outputs": [
    {
     "name": "stdout",
     "output_type": "stream",
     "text": [
      "Features or input variables:\n",
      ",    Pregnancies  Glucose  BloodPressure  SkinThickness     Insulin   BMI  \\\n",
      "0            6    148.0           72.0       35.00000  155.548223  33.6   \n",
      "1            1     85.0           66.0       29.00000  155.548223  26.6   \n",
      "2            8    183.0           64.0       29.15342  155.548223  23.3   \n",
      "3            1     89.0           66.0       23.00000   94.000000  28.1   \n",
      "4            0    137.0           40.0       35.00000  168.000000  43.1   \n",
      "\n",
      "   DiabetesPedigreeFunction  Age  \n",
      "0                     0.627   50  \n",
      "1                     0.351   31  \n",
      "2                     0.672   32  \n",
      "3                     0.167   21  \n",
      "4                     2.288   33  , \n",
      "\n",
      "and shape is, (768, 8)\n",
      "\n",
      "Target or output variables:\n",
      ", 0    1\n",
      "1    0\n",
      "2    1\n",
      "3    0\n",
      "4    1\n",
      "Name: Outcome, dtype: int64, \n",
      "and shape is, (768,)\n"
     ]
    }
   ],
   "source": [
    "# divide data into train (input / features) & test (output) data\n",
    "from pandas.core.frame import DataFrame, Series\n",
    "from sklearn.model_selection import train_test_split\n",
    "\n",
    "X: DataFrame = df_patient_data.drop('Outcome', axis = 1)\n",
    "y: Series = df_patient_data['Outcome']\n",
    "\n",
    "X_train, X_test, y_train, y_test = train_test_split(X, y,\n",
    "                                                    test_size = 0.3,\n",
    "                                                    random_state = 42)\n",
    "\n",
    "print(f'Features or input variables:\\n, {X.head()}, \\n\\nand shape is, {X.shape}')\n",
    "\n",
    "print(f'\\nTarget or output variables:\\n, {y.head()}, \\nand shape is, {y.shape}')"
   ]
  },
  {
   "cell_type": "code",
   "execution_count": 190,
   "metadata": {},
   "outputs": [
    {
     "name": "stdout",
     "output_type": "stream",
     "text": [
      "Scaled X_train:\n",
      ", [[-0.8362943  -0.89610788 -1.00440048 -1.27450178 -1.14686808 -1.20403257\n",
      "  -0.61421636 -0.94861028]\n",
      " [ 0.39072767 -0.56399695 -0.02026586  0.02449184  1.99579164  0.66428525\n",
      "  -0.90973787 -0.43466673]\n",
      " [-1.14304979  0.43233584 -0.34831073  1.55966612  1.11302206  1.44035573\n",
      "  -0.30699103 -0.77729576]\n",
      " [ 0.08397217  0.29949146 -0.34831073 -0.92023079  0.12432012  0.11816158\n",
      "  -0.90681191 -0.43466673]\n",
      " [-0.8362943  -0.63041914 -3.46473705  1.08730481 -0.85261155  1.58407249\n",
      "  -0.83951493 -0.00638043]], \n",
      "\n",
      "and shape is, (537, 8)\n",
      "\n",
      "Scaled X_test:\n",
      ", [[ 6.97483158e-01 -7.96474605e-01 -1.16842292e+00  4.96853160e-01\n",
      "   4.06806388e-01  2.47506663e-01 -1.16803926e-01  8.50192166e-01]\n",
      " [-5.29538810e-01 -3.31519303e-01  2.25767799e-01  3.78762831e-01\n",
      "   1.29998139e-03  4.91825147e-01 -9.41923376e-01 -1.03426754e+00]\n",
      " [-5.29538810e-01 -4.64363675e-01 -6.76355609e-01  4.26092128e-02\n",
      "   1.29998139e-03 -2.12386954e-01 -9.12663821e-01 -1.03426754e+00]\n",
      " [ 1.31099414e+00 -4.97574768e-01  6.35823893e-01  4.26092128e-02\n",
      "   1.29998139e-03 -1.10343084e+00  1.12965312e+00  7.92768305e-02]\n",
      " [ 1.00423865e+00  4.65546928e-01  1.45593608e+00  4.26092128e-02\n",
      "   1.29998139e-03 -3.41732034e-01 -7.60514135e-01  1.44979298e+00]], \n",
      "\n",
      "and shape is, (231, 8)\n"
     ]
    }
   ],
   "source": [
    "# Optional: Scale the input (features data - both train & test data) for better model performance\n",
    "from sklearn.preprocessing import StandardScaler\n",
    "\n",
    "scaler = StandardScaler()\n",
    "X_train = scaler.fit_transform(X_train)\n",
    "X_test = scaler.transform(X_test)\n",
    "\n",
    "print(f'Scaled X_train:\\n, {X_train[:5]}, \\n\\nand shape is, {X_train.shape}')       # prints a large vectorised array like [[-0.8362943  -0.89610788 -1.00440048 -1.27450178 -1.14686808 -1.20403257\n",
    "\n",
    "print(f'\\nScaled X_test:\\n, {X_test[:5]}, \\n\\nand shape is, {X_test.shape}')"
   ]
  },
  {
   "cell_type": "markdown",
   "metadata": {},
   "source": [
    "#### RandomForestClassifier model hyper-params"
   ]
  },
  {
   "cell_type": "code",
   "execution_count": 191,
   "metadata": {},
   "outputs": [
    {
     "data": {
      "text/plain": [
       "{'bootstrap': True,\n",
       " 'ccp_alpha': 0.0,\n",
       " 'class_weight': None,\n",
       " 'criterion': 'gini',\n",
       " 'max_depth': None,\n",
       " 'max_features': 'sqrt',\n",
       " 'max_leaf_nodes': None,\n",
       " 'max_samples': None,\n",
       " 'min_impurity_decrease': 0.0,\n",
       " 'min_samples_leaf': 1,\n",
       " 'min_samples_split': 2,\n",
       " 'min_weight_fraction_leaf': 0.0,\n",
       " 'monotonic_cst': None,\n",
       " 'n_estimators': 100,\n",
       " 'n_jobs': None,\n",
       " 'oob_score': False,\n",
       " 'random_state': None,\n",
       " 'verbose': 0,\n",
       " 'warm_start': False}"
      ]
     },
     "execution_count": 191,
     "metadata": {},
     "output_type": "execute_result"
    }
   ],
   "source": [
    "from sklearn.ensemble import RandomForestClassifier\n",
    "\n",
    "RandomForestClassifier().get_params()\n",
    "# print(len(RandomForestClassifier().get_params()))       # total 19 keys"
   ]
  },
  {
   "cell_type": "code",
   "execution_count": 192,
   "metadata": {},
   "outputs": [],
   "source": [
    "from sklearn.model_selection import cross_val_score\n",
    "import optuna\n",
    "from optuna import Study"
   ]
  },
  {
   "cell_type": "markdown",
   "metadata": {},
   "source": [
    "> #### Define the **Objective function** and create a **Study**"
   ]
  },
  {
   "cell_type": "code",
   "execution_count": 193,
   "metadata": {},
   "outputs": [],
   "source": [
    "def objective(trial):\n",
    "    # Define hyperparameter values\n",
    "    n_estimators = trial.suggest_categorical('n_estimators', [20, 60, 100, 120])\n",
    "    max_features = trial.suggest_categorical('max_features', [0.2, 0.6, 1.0])\n",
    "    max_depth = trial.suggest_categorical('max_depth', [2, 8, None])\n",
    "    max_samples = trial.suggest_categorical('max_samples', [0.5, 0.75, 1.0])\n",
    "    bootstrap = trial.suggest_categorical('bootstrap', [True, False])\n",
    "    min_samples_split = trial.suggest_categorical('min_samples_split', [2, 5])\n",
    "    min_samples_leaf = trial.suggest_categorical('min_samples_leaf', [1, 2])\n",
    "\n",
    "    # Create model with suggested hyperparameters\n",
    "    model_params = {\n",
    "        'n_estimators': n_estimators,\n",
    "        'max_features': max_features,\n",
    "        'max_depth': max_depth,\n",
    "        'max_samples': max_samples if bootstrap else None,\n",
    "        'bootstrap': bootstrap,\n",
    "        'min_samples_split': min_samples_split,\n",
    "        'min_samples_leaf': min_samples_leaf,\n",
    "        'random_state': 42\n",
    "    }\n",
    "\n",
    "    model = RandomForestClassifier(**model_params)\n",
    "\n",
    "    # Perform 3-fold cross-validation and calculate accuracy\n",
    "    score = cross_val_score(model,\n",
    "                            X_train,\n",
    "                            y_train,\n",
    "                            cv = 3,\n",
    "                            scoring='accuracy').mean()\n",
    "\n",
    "    return score                # Return the accuracy score for Optuna to maximize"
   ]
  },
  {
   "cell_type": "markdown",
   "metadata": {},
   "source": [
    "> #### Connect to **Dagshub** repo"
   ]
  },
  {
   "cell_type": "code",
   "execution_count": 196,
   "metadata": {},
   "outputs": [
    {
     "name": "stdout",
     "output_type": "stream",
     "text": [
      "ImRaNM-001 mlflow-experiment-hp-tuning\n",
      "https://dagshub.com/ImRaNM-001/mlflow-experiment-hp-tuning.mlflow\n"
     ]
    },
    {
     "data": {
      "text/html": [
       "<pre style=\"white-space:pre;overflow-x:auto;line-height:normal;font-family:Menlo,'DejaVu Sans Mono',consolas,'Courier New',monospace\">Initialized MLflow to track repo <span style=\"color: #008000; text-decoration-color: #008000\">\"ImRaNM-001/mlflow-experiment-hp-tuning\"</span>\n",
       "</pre>\n"
      ],
      "text/plain": [
       "Initialized MLflow to track repo \u001b[32m\"ImRaNM-001/mlflow-experiment-hp-tuning\"\u001b[0m\n"
      ]
     },
     "metadata": {},
     "output_type": "display_data"
    },
    {
     "data": {
      "text/html": [
       "<pre style=\"white-space:pre;overflow-x:auto;line-height:normal;font-family:Menlo,'DejaVu Sans Mono',consolas,'Courier New',monospace\">Repository ImRaNM-<span style=\"color: #008080; text-decoration-color: #008080; font-weight: bold\">001</span>/mlflow-experiment-hp-tuning initialized!\n",
       "</pre>\n"
      ],
      "text/plain": [
       "Repository ImRaNM-\u001b[1;36m001\u001b[0m/mlflow-experiment-hp-tuning initialized!\n"
      ]
     },
     "metadata": {},
     "output_type": "display_data"
    }
   ],
   "source": [
    "import mlflow as mfl\n",
    "import dagshub as dgb\n",
    "from dotenv import load_dotenv\n",
    "import os\n",
    "\n",
    "try:\n",
    "    load_dotenv()\n",
    "    repo_owner: str | None = os.getenv('DAGSHUB_REPO_OWNER')\n",
    "    repo_name: str | None = os.getenv('DAGSHUB_REPO_NAME')\n",
    "\n",
    "except ValueError as error:\n",
    "    print(str(error))\n",
    "\n",
    "# Initialize Dagshub\n",
    "dgb.init(repo_owner = repo_owner, \n",
    "             repo_name = repo_name,\n",
    "             mlflow = True)"
   ]
  },
  {
   "cell_type": "code",
   "execution_count": 173,
   "metadata": {},
   "outputs": [
    {
     "name": "stderr",
     "output_type": "stream",
     "text": [
      "[I 2025-01-26 05:02:16,484] A new study created in memory with name: no-name-ea8d4a22-7dc3-4545-87ad-2243bd72f10e\n"
     ]
    },
    {
     "name": "stderr",
     "output_type": "stream",
     "text": [
      "[I 2025-01-26 05:02:16,909] Trial 0 finished with value: 0.7653631284916201 and parameters: {'n_estimators': 120, 'max_features': 1.0, 'max_depth': 8, 'max_samples': 0.5, 'bootstrap': True, 'min_samples_split': 5, 'min_samples_leaf': 2}. Best is trial 0 with value: 0.7653631284916201.\n",
      "[I 2025-01-26 05:02:17,106] Trial 1 finished with value: 0.7709497206703911 and parameters: {'n_estimators': 120, 'max_features': 0.2, 'max_depth': 8, 'max_samples': 0.75, 'bootstrap': True, 'min_samples_split': 2, 'min_samples_leaf': 1}. Best is trial 1 with value: 0.7709497206703911.\n",
      "[I 2025-01-26 05:02:17,270] Trial 2 finished with value: 0.7616387337057727 and parameters: {'n_estimators': 120, 'max_features': 0.6, 'max_depth': 2, 'max_samples': 0.75, 'bootstrap': False, 'min_samples_split': 2, 'min_samples_leaf': 1}. Best is trial 1 with value: 0.7709497206703911.\n",
      "[I 2025-01-26 05:02:17,420] Trial 3 finished with value: 0.7597765363128491 and parameters: {'n_estimators': 100, 'max_features': 0.2, 'max_depth': None, 'max_samples': 0.5, 'bootstrap': False, 'min_samples_split': 2, 'min_samples_leaf': 2}. Best is trial 1 with value: 0.7709497206703911.\n",
      "[I 2025-01-26 05:02:17,559] Trial 4 finished with value: 0.7541899441340781 and parameters: {'n_estimators': 60, 'max_features': 0.6, 'max_depth': None, 'max_samples': 1.0, 'bootstrap': False, 'min_samples_split': 5, 'min_samples_leaf': 2}. Best is trial 1 with value: 0.7709497206703911.\n"
     ]
    },
    {
     "name": "stdout",
     "output_type": "stream",
     "text": [
      "🏃 View run Experiment: 0 at: http://127.0.0.1:5000/#/experiments/638940344264241299/runs/67fb9b97a71f4a0694de74b76eb9346d\n",
      "🧪 View experiment at: http://127.0.0.1:5000/#/experiments/638940344264241299\n",
      "🏃 View run Experiment: 1 at: http://127.0.0.1:5000/#/experiments/638940344264241299/runs/5facae863e08416298b8aff0340a7ba1\n",
      "🧪 View experiment at: http://127.0.0.1:5000/#/experiments/638940344264241299\n",
      "🏃 View run Experiment: 2 at: http://127.0.0.1:5000/#/experiments/638940344264241299/runs/55cd7a8684364855b891dcf509a6e142\n",
      "🧪 View experiment at: http://127.0.0.1:5000/#/experiments/638940344264241299\n",
      "🏃 View run Experiment: 3 at: http://127.0.0.1:5000/#/experiments/638940344264241299/runs/3296b7c2905346c2bd96d772cfc5b635\n",
      "🧪 View experiment at: http://127.0.0.1:5000/#/experiments/638940344264241299\n",
      "🏃 View run Experiment: 4 at: http://127.0.0.1:5000/#/experiments/638940344264241299/runs/bdab82b20bea41bf9187d32e81e93bd1\n",
      "🧪 View experiment at: http://127.0.0.1:5000/#/experiments/638940344264241299\n",
      "🏃 View run series_of_runs at: http://127.0.0.1:5000/#/experiments/638940344264241299/runs/d82827b442d649eab857d0d3b4600cee\n",
      "🧪 View experiment at: http://127.0.0.1:5000/#/experiments/638940344264241299\n"
     ]
    }
   ],
   "source": [
    "from sklearn.metrics import accuracy_score, precision_score, confusion_matrix\n",
    "# Disabled local uri due to connection made to dagshub\n",
    "# if not mfl.is_tracking_uri_set():\n",
    "#     mfl.set_tracking_uri(uri = 'http://127.0.0.1:5000')\n",
    "\n",
    "mfl.set_tracking_uri(f'https://dagshub.com/{repo_owner}/{repo_name}.mlflow')\n",
    "\n",
    "# set the experiment name\n",
    "mfl.set_experiment('RandomForest Bayesian Search HyperParameter Tuning')\n",
    "\n",
    "with mfl.start_run(run_name = 'series_of_runs') as parent:  \n",
    "    study: Study = optuna.create_study(direction = 'maximize',\n",
    "                                   sampler = optuna.samplers.TPESampler()\n",
    "                                   )                    # In order to maximize accuracy\n",
    "    study.optimize(objective, n_trials = 5)            # Run 50 trials to find the best hyperparameters\n",
    "\n",
    "    # Train the RandomForestClassifier model using the best hyperparameters from Optuna\n",
    "    best_model = RandomForestClassifier(**study.best_trial.params, \n",
    "                                        random_state = 42)\n",
    "\n",
    "    # Fit the model to the training data\n",
    "    best_model.fit(X_train, y_train)\n",
    "\n",
    "    # Make predictions on the test set\n",
    "    y_pred = best_model.predict(X_test)\n",
    "\n",
    "    # get the model signature\n",
    "    signature = mfl.models.infer_signature(model_input = X_train,\n",
    "                                              model_output = best_model.predict(X_test))\n",
    "\n",
    "    # Calculate the metrics: \"accuracy\", \"precision_score\", \"precision_score\" on the test set\n",
    "    accuracy = accuracy_score(y_test, y_pred)\n",
    "    precision = precision_score(y_test, y_pred)\n",
    "    conf_matrix = confusion_matrix(y_test, y_pred)\n",
    "\n",
    "    # Start a nested run for each trial\n",
    "    for trial in study.trials:\n",
    "        with mfl.start_run(run_name = f'Experiment: {trial.number}', nested = True) as nested_run:\n",
    "            # Log trial hyperparameters and metrics\n",
    "            mfl.log_params(trial.params)\n",
    "            mfl.log_metric('trial_value', trial.value)"
   ]
  },
  {
   "cell_type": "code",
   "execution_count": 174,
   "metadata": {},
   "outputs": [
    {
     "name": "stdout",
     "output_type": "stream",
     "text": [
      "Best trial accuracy: 0.77\n",
      "Best hyperparameters: {'n_estimators': 120, 'max_features': 0.2, 'max_depth': 8, 'max_samples': 0.75, 'bootstrap': True, 'min_samples_split': 2, 'min_samples_leaf': 1}\n",
      "Test Accuracy with best hyperparameters: 0.75\n",
      "Best precision score: 0.64\n",
      "Best confusion matrix: [[122  29]\n",
      " [ 28  52]]\n"
     ]
    }
   ],
   "source": [
    "# Print the best results\n",
    "best_trial_val: str = f'{study.best_trial.value:.2f}'\n",
    "print(f'Best trial accuracy: {best_trial_val}')\n",
    "\n",
    "best_hyper_params = study.best_trial.params\n",
    "print(f'Best hyperparameters: {best_hyper_params}')\n",
    "\n",
    "# Print the test accuracy, precision_score and confusion_matrix\n",
    "print(f'Test Accuracy with best hyperparameters: {accuracy:.2f}')\n",
    "print(f'Best precision score: {precision:.2f}')\n",
    "print(f'Best confusion matrix: {conf_matrix}')"
   ]
  },
  {
   "cell_type": "code",
   "execution_count": 197,
   "metadata": {},
   "outputs": [],
   "source": [
    "# Save the confusion matrix using joblib\n",
    "import joblib as jb\n",
    "# with open('confusion_matrix.pkl', 'wb') as conf_matrix_file:\n",
    "#     pickle.dump(conf_matrix, conf_matrix_file)\n",
    "\n",
    "with open('confusion_matrix.joblib', 'wb') as conf_matrix_file:\n",
    "    jb.dump(conf_matrix, conf_matrix_file)"
   ]
  },
  {
   "cell_type": "markdown",
   "metadata": {},
   "source": [
    "##### Advantages of using serialization_format = 'joblib' over the default pickle in mlflow.sklearn.log_model:\n",
    "\n",
    "1. Better for Large NumPy Arrays:\n",
    "\n",
    "    - Joblib's Strength: Joblib is particularly efficient at handling large NumPy arrays, which are very common in machine learning data. It uses memory mapping techniques that allow it to save and load these arrays much faster than pickle, especially when the arrays are very large.\n",
    "\n",
    "2. Potential for Parallelism:Joblib's Parallelism: \n",
    "\n",
    "    - Joblib has built-in support for parallel processing. While mlflow.sklearn.log_model might not directly utilize this for model saving, it's an advantage of joblib if you're doing other data processing tasks in your workflow.\n",
    "    \n",
    "3. (Slightly) Better Compression:\n",
    "\n",
    "    - Marginal Difference: In some cases, joblib can produce slightly smaller file sizes compared to pickle, but this difference is often not significant.\n",
    "    \n",
    "    ##### When Pickle Might Be Okay:\n",
    "\n",
    "    - Small Models: If your scikit-learn model is relatively small and doesn't involve massive NumPy arrays, pickle might work just fine.\n",
    "    \n",
    "    - Simplicity: Pickle is built-in to Python, so it might be slightly simpler if you don't want to add joblib as a dependency.\n",
    "    \n",
    "    In summary: For most machine learning projects (especially if you have large datasets or arrays), using serialization_format=\"joblib\" with mlflow.sklearn.log_model is the recommended approach. It offers performance advantages, particularly during the loading and saving of models.  \n",
    "    \n",
    "    However, if you have a simple use case with small models, the default pickle behavior might suffice."
   ]
  },
  {
   "cell_type": "code",
   "execution_count": 176,
   "metadata": {},
   "outputs": [
    {
     "name": "stderr",
     "output_type": "stream",
     "text": [
      "2025/01/26 05:02:17 WARNING mlflow.sklearn: Model was missing function: predict. Not logging python_function flavor!\n",
      "Registered model 'RandomForestClassifier_model' already exists. Creating a new version of this model...\n",
      "2025/01/26 05:02:19 INFO mlflow.store.model_registry.abstract_store: Waiting up to 300 seconds for model version to finish creation. Model name: RandomForestClassifier_model, version 6\n"
     ]
    },
    {
     "name": "stdout",
     "output_type": "stream",
     "text": [
      "🏃 View run best_model at: http://127.0.0.1:5000/#/experiments/638940344264241299/runs/d5517dc5fe37444da57e0483d6aea5c1\n",
      "🧪 View experiment at: http://127.0.0.1:5000/#/experiments/638940344264241299\n"
     ]
    },
    {
     "name": "stderr",
     "output_type": "stream",
     "text": [
      "Created version '6' of model 'RandomForestClassifier_model'.\n"
     ]
    }
   ],
   "source": [
    "with mfl.start_run(run_name = 'best_model') as best_model:       \n",
    "    mfl.log_params(best_hyper_params)\n",
    "    mfl.log_metric('trial_value', best_trial_val)\n",
    "    mfl.log_metric('accuracy_score', accuracy)\n",
    "    mfl.log_metric('precision_score', precision)\n",
    "    \n",
    "    # Log the confusion matrix as an artifact\n",
    "    mfl.log_artifact('confusion_matrix.joblib')\n",
    "\n",
    "    # sklearn model supported formats: ['pickle', 'cloudpickle']\n",
    "    mfl.sklearn.log_model(best_model,\n",
    "                          artifact_path = 'final_model',\n",
    "                          registered_model_name = 'RandomForestClassifier_model',\n",
    "                          signature = signature)"
   ]
  }
 ],
 "metadata": {
  "kernelspec": {
   "display_name": ".venv",
   "language": "python",
   "name": "python3"
  },
  "language_info": {
   "codemirror_mode": {
    "name": "ipython",
    "version": 3
   },
   "file_extension": ".py",
   "mimetype": "text/x-python",
   "name": "python",
   "nbconvert_exporter": "python",
   "pygments_lexer": "ipython3",
   "version": "3.12.7"
  }
 },
 "nbformat": 4,
 "nbformat_minor": 2
}
