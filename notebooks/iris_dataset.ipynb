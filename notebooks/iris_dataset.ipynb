{
 "cells": [
  {
   "cell_type": "markdown",
   "metadata": {},
   "source": [
    "> ### Iris dataset\n",
    "\n",
    "Each data point represents an iris flower, and the dataset includes four features (attributes) for each flower. These features are measurements of the flowers' physical characteristics. Specifically, the features are:\n",
    "\n",
    "      1. Sepal Length: The length of the sepal (in cms)\n",
    "\n",
    "      2. Sepal Width: The width of the sepal (in cms)\n",
    "\n",
    "      3. Petal Length: The length of the petal (in cms)\n",
    "\n",
    "      4. Petal Width: The width of the petal (in cms)\n",
    "\n",
    "### Explanation of Sepal and Petal:\n",
    "   - **Sepal**: The sepal is the part of the flower that typically forms the outermost whorl of the flower. Sepals are usually green and function as protection for the flower in bud and often as support for the petals when in bloom.\n",
    "\n",
    "   - **Petal**: The petal is the part of the flower that is often colorful and attracts pollinators. Petals are usually located inside the sepals.\n",
    "\n",
    "\n",
    "### Visual Representation:\n",
    "Here is a simple diagram to illustrate the sepal and petal:\n",
    "\n",
    "```\n",
    "      _______\n",
    "     /       \\\n",
    "    /         \\\n",
    "   /  Sepal    \\\n",
    "  /_____________\\\n",
    "  \\             /\n",
    "   \\   Petal   /\n",
    "    \\_________/\n",
    "```\n",
    "\n",
    "### Example Data Point:\n",
    "A single data point in the Iris dataset might look like this:\n",
    "   ```\n",
    "   [5.1, 3.5, 1.4, 0.2]\n",
    "   ```\n",
    "      This corresponds to:\n",
    "\n",
    "      - Sepal Length: 5.1 cm\n",
    "\n",
    "      - Sepal Width: 3.5 cm\n",
    "\n",
    "      - Petal Length: 1.4 cm\n",
    "      \n",
    "      - Petal Width: 0.2 cm\n",
    "\n",
    "### Loading and Viewing the Iris Dataset is shown below:"
   ]
  },
  {
   "cell_type": "code",
   "execution_count": 1,
   "metadata": {},
   "outputs": [
    {
     "name": "stdout",
     "output_type": "stream",
     "text": [
      "Shape of X: (150, 4)\n",
      "Shape of y: (150,)\n",
      "Shape of X_train: (105, 4)\n",
      "Shape of y_train: (105,)\n",
      "Shape of X_test: (45, 4)\n",
      "Shape of y_test: (45,)\n",
      "\n",
      "First 5 rows of X_train:\n",
      "[[5.5 2.4 3.7 1. ]\n",
      " [6.3 2.8 5.1 1.5]\n",
      " [6.4 3.1 5.5 1.8]\n",
      " [6.6 3.  4.4 1.4]\n",
      " [7.2 3.6 6.1 2.5]]\n",
      "float64\n",
      "\n",
      "First 5 rows of y_train:\n",
      "[1 2 2 1 2]\n",
      "   sepal length (cm)  sepal width (cm)  petal length (cm)  petal width (cm)  \\\n",
      "0                5.1               3.5                1.4               0.2   \n",
      "1                4.9               3.0                1.4               0.2   \n",
      "2                4.7               3.2                1.3               0.2   \n",
      "3                4.6               3.1                1.5               0.2   \n",
      "4                5.0               3.6                1.4               0.2   \n",
      "\n",
      "   target  \n",
      "0       0  \n",
      "1       0  \n",
      "2       0  \n",
      "3       0  \n",
      "4       0  \n"
     ]
    }
   ],
   "source": [
    "from sklearn.datasets import load_iris\n",
    "from sklearn.model_selection import train_test_split\n",
    "import pandas as pd\n",
    "\n",
    "# Load the iris dataset\n",
    "iris = load_iris()\n",
    "X, y  = iris.data, iris.target\n",
    "\n",
    "# Split the data into training and testing sets\n",
    "X_train, X_test, y_train, y_test = train_test_split(X, y, \n",
    "                                                    test_size = 0.3, \n",
    "                                                    random_state = 42)\n",
    "\n",
    "# Print the shapes of X_train and y_train\n",
    "print('Shape of X:', X.shape)                           # Shape of X: i.e, iris dataset is (150, 4) --> 150 rows and 4 columns\n",
    "print('Shape of y:', y.shape)\n",
    "print('Shape of X_train:', X_train.shape)               # X_train and all related X entities [iris.data] are 2D array\n",
    "print('Shape of y_train:', y_train.shape)               # y_train and all related y entities [iris.target] are are 1D array\n",
    "print('Shape of X_test:', X_test.shape)\n",
    "print('Shape of y_test:', y_test.shape)\n",
    "\n",
    "# Print the first few rows of X_train and y_train\n",
    "print('\\nFirst 5 rows of X_train:')\n",
    "print(X_train[:5])\n",
    "print(X_train.dtype)\n",
    "print('\\nFirst 5 rows of y_train:')\n",
    "print(y_train[:5])\n",
    "\n",
    "\n",
    "# Create a DataFrame for better visualization\n",
    "iris_df = pd.DataFrame(data = iris.data, columns = iris.feature_names)\n",
    "iris_df['target'] = iris.target\n",
    "\n",
    "# Display the first few rows of the DataFrame\n",
    "print(iris_df.head())                                   # In this dataset, the `target` column represents the species of the iris flower, encoded as integers (0, 1, 2).\n",
    "\n"
   ]
  },
  {
   "cell_type": "code",
   "execution_count": 2,
   "metadata": {},
   "outputs": [
    {
     "name": "stdout",
     "output_type": "stream",
     "text": [
      "<class 'numpy.ndarray'>\n",
      "600\n"
     ]
    }
   ],
   "source": [
    "print(type(iris.data))\n",
    "print(iris.data.size)"
   ]
  },
  {
   "cell_type": "code",
   "execution_count": 4,
   "metadata": {},
   "outputs": [
    {
     "name": "stdout",
     "output_type": "stream",
     "text": [
      "<class 'numpy.ndarray'>\n",
      "150\n",
      "[0 0 0 0 0 0 0 0 0 0 0 0 0 0 0 0 0 0 0 0 0 0 0 0 0 0 0 0 0 0 0 0 0 0 0 0 0\n",
      " 0 0 0 0 0 0 0 0 0 0 0 0 0 1 1 1 1 1 1 1 1 1 1 1 1 1 1 1 1 1 1 1 1 1 1 1 1\n",
      " 1 1 1 1 1 1 1 1 1 1 1 1 1 1 1 1 1 1 1 1 1 1 1 1 1 1 2 2 2 2 2 2 2 2 2 2 2\n",
      " 2 2 2 2 2 2 2 2 2 2 2 2 2 2 2 2 2 2 2 2 2 2 2 2 2 2 2 2 2 2 2 2 2 2 2 2 2\n",
      " 2 2]\n"
     ]
    }
   ],
   "source": [
    "iris_df['target'] = iris.target\n",
    "print(type(iris.target))\n",
    "print(iris.target.size)\n",
    "print(iris.target)"
   ]
  },
  {
   "cell_type": "code",
   "execution_count": null,
   "metadata": {},
   "outputs": [],
   "source": []
  }
 ],
 "metadata": {
  "kernelspec": {
   "display_name": ".venv",
   "language": "python",
   "name": "python3"
  },
  "language_info": {
   "codemirror_mode": {
    "name": "ipython",
    "version": 3
   },
   "file_extension": ".py",
   "mimetype": "text/x-python",
   "name": "python",
   "nbconvert_exporter": "python",
   "pygments_lexer": "ipython3",
   "version": "3.12.7"
  }
 },
 "nbformat": 4,
 "nbformat_minor": 2
}
